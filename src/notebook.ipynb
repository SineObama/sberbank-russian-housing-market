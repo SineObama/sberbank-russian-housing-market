{
 "cells": [
  {
   "cell_type": "markdown",
   "metadata": {},
   "source": [
    "# rfr 调参"
   ]
  },
  {
   "cell_type": "code",
   "execution_count": 104,
   "metadata": {
    "collapsed": true
   },
   "outputs": [
    {
     "name": "stdout",
     "output_type": "stream",
     "text": [
      "12 50 0.446689800207\n",
      "12 70 0.448694847243\n",
      "12 90 0.450195098132\n",
      "12 110 0.451274714979\n",
      "12 130 0.453805545916\n",
      "12 150 0.453895000556\n",
      "12 170 0.455413097306\n",
      "12 190 0.454590535151\n",
      "14 50 0.44598203317\n",
      "14 70 0.446952003096\n",
      "14 90 0.449739982655\n",
      "14 110 0.45125415274\n",
      "14 130 0.453419042676\n",
      "14 150 0.453079658598\n",
      "14 170 0.454420835012\n",
      "14 190 0.454953632187\n"
     ]
    }
   ],
   "source": [
    "for depth in range(12,15,2):\n",
    "    for split in range(50,201,20):\n",
    "        rfr = ensemble.RandomForestRegressor(n_estimators=70, min_samples_split=split,\n",
    "                                  min_samples_leaf=20,max_depth=depth,max_features='sqrt' ,random_state=10)\n",
    "        rfr.fit(dev_X, dev_y)\n",
    "        print depth,split,logrmse(rfr.predict(val_X), val_y)"
   ]
  },
  {
   "cell_type": "code",
   "execution_count": 106,
   "metadata": {
    "collapsed": true
   },
   "outputs": [
    {
     "name": "stdout",
     "output_type": "stream",
     "text": [
      "10 30 0.4425470183\n",
      "10 50 0.44399488121\n",
      "10 70 0.445360751906\n",
      "10 90 0.446968918679\n",
      "20 30 0.44499476097\n",
      "20 50 0.44598203317\n",
      "20 70 0.446952003096\n",
      "20 90 0.449739982655\n",
      "30 30 0.448463051727\n",
      "30 50 0.448463051727\n",
      "30 70 0.45032428352\n",
      "30 90 0.451883061519\n",
      "40 30 0.451170906416\n",
      "40 50 0.451170906416\n",
      "40 70 0.451170906416\n",
      "40 90 0.45285349714\n",
      "50 30 0.453745369596\n",
      "50 50 0.453745369596\n",
      "50 70 0.453745369596\n",
      "50 90 0.453745369596\n"
     ]
    }
   ],
   "source": [
    "for leaf in range(10,60,10):\n",
    "    for split in range(30,100,20):\n",
    "        rfr = ensemble.RandomForestRegressor(n_estimators=70, min_samples_split=split,\n",
    "                                  min_samples_leaf=leaf,max_depth=14,max_features='sqrt' ,random_state=10)\n",
    "        rfr.fit(dev_X, dev_y)\n",
    "        print leaf,split,logrmse(rfr.predict(val_X), val_y)"
   ]
  },
  {
   "cell_type": "code",
   "execution_count": 108,
   "metadata": {
    "collapsed": true
   },
   "outputs": [
    {
     "name": "stdout",
     "output_type": "stream",
     "text": [
      "3 0.482884466722\n",
      "5 0.471158183397\n",
      "7 0.46353248521\n",
      "9 0.455723715792\n"
     ]
    }
   ],
   "source": [
    "for max in range(3,11,2):\n",
    "    rfr = ensemble.RandomForestRegressor(n_estimators=70, min_samples_split=30,\n",
    "                              min_samples_leaf=10,max_depth=14,max_features=max ,random_state=10)\n",
    "    rfr.fit(dev_X, dev_y)\n",
    "    print max,logrmse(rfr.predict(val_X), val_y)"
   ]
  },
  {
   "cell_type": "code",
   "execution_count": 109,
   "metadata": {
    "collapsed": true
   },
   "outputs": [],
   "source": [
    "rfr = ensemble.RandomForestRegressor()"
   ]
  },
  {
   "cell_type": "code",
   "execution_count": 286,
   "metadata": {
    "collapsed": false
   },
   "outputs": [],
   "source": [
    "rfr = ensemble.RandomForestRegressor(n_estimators=70, max_depth=12)"
   ]
  },
  {
   "cell_type": "code",
   "execution_count": 299,
   "metadata": {
    "collapsed": false
   },
   "outputs": [
    {
     "data": {
      "text/plain": [
       "0.029562190744143669"
      ]
     },
     "execution_count": 299,
     "metadata": {},
     "output_type": "execute_result"
    }
   ],
   "source": [
    "rfr.fit(dev_X, dev_y)\n",
    "logrmse(rfr.predict(val_X), val_y)"
   ]
  },
  {
   "cell_type": "code",
   "execution_count": 300,
   "metadata": {
    "collapsed": false
   },
   "outputs": [
    {
     "data": {
      "text/plain": [
       "0.45154203169811297"
      ]
     },
     "execution_count": 300,
     "metadata": {},
     "output_type": "execute_result"
    }
   ],
   "source": [
    "rmse(rfr.predict(val_X), val_y)"
   ]
  },
  {
   "cell_type": "code",
   "execution_count": 45,
   "metadata": {
    "collapsed": true
   },
   "outputs": [],
   "source": [
    "y_pred = rfr.predict(test_X)\n",
    "output = pd.DataFrame({'id': test_df.id, 'price_doc': y_pred})\n",
    "output.to_csv('rfr.csv', index=False)"
   ]
  },
  {
   "cell_type": "markdown",
   "metadata": {
    "_cell_guid": "aeafa813-c3e2-11a4-3162-949f6149b6a5",
    "_uuid": "8d0a7988cff3c1a1da2a86732a388409f59c7957"
   },
   "source": [
    "Feature Engineering is a key part in any ML problem and I think it will play a major role in this one as well.\n",
    "\n",
    "So in this notebook, I am trying to create different types of features using the given data and build an XGBoost model using the same to look at the feature importance. \n",
    "\n",
    "**PS: Not all the variables will be useful. This is just about FE ideas. Please do proper validation and then use them :)**\n",
    "\n",
    "Let us start with importing the necessary modules."
   ]
  },
  {
   "cell_type": "code",
   "execution_count": 32,
   "metadata": {
    "collapsed": false
   },
   "outputs": [],
   "source": [
    "def rmse(predictions, targets):\n",
    "    return np.sqrt(((predictions - targets) ** 2).mean())\n",
    "warn_log = True\n",
    "def logrmse(predictions, targets):\n",
    "    global warn_log\n",
    "    index = predictions > 0\n",
    "    if (not index.all()):\n",
    "        if (warn_log == True):\n",
    "            warn_log = False\n",
    "            print 'warning: not positive'\n",
    "    return rmse(np.log(predictions[index]), np.log(targets[index]))\n",
    "def xgblogrmse(predictions, dtrain):\n",
    "    return ('logrmse', logrmse(predictions, dtrain.get_label()))"
   ]
  },
  {
   "cell_type": "code",
   "execution_count": 2,
   "metadata": {
    "_cell_guid": "11636e6e-ceac-9cf2-6c38-b12e18afd307",
    "_uuid": "f7c0c0469e37b779a65cbdd653ff4367aca4741c",
    "collapsed": false
   },
   "outputs": [
    {
     "name": "stderr",
     "output_type": "stream",
     "text": [
      "d:\\Anaconda2\\lib\\site-packages\\sklearn\\cross_validation.py:44: DeprecationWarning: This module was deprecated in version 0.18 in favor of the model_selection module into which all the refactored classes and functions are moved. Also note that the interface of the new CV iterators are different from that of this module. This module will be removed in 0.20.\n",
      "  \"This module will be removed in 0.20.\", DeprecationWarning)\n",
      "d:\\Anaconda2\\lib\\site-packages\\sklearn\\grid_search.py:43: DeprecationWarning: This module was deprecated in version 0.18 in favor of the model_selection module into which all the refactored classes and functions are moved. This module will be removed in 0.20.\n",
      "  DeprecationWarning)\n"
     ]
    }
   ],
   "source": [
    "import numpy as np # linear algebra\n",
    "import pandas as pd # data processing, CSV file I/O (e.g. pd.read_csv)\n",
    "import matplotlib.pyplot as plt\n",
    "import seaborn as sns\n",
    "from sklearn import model_selection, preprocessing\n",
    "from sklearn import ensemble   \n",
    "from sklearn import datasets\n",
    "from sklearn import grid_search\n",
    "from sklearn.utils import shuffle   \n",
    "import xgboost as xgb\n",
    "color = sns.color_palette()\n",
    "\n",
    "%matplotlib inline\n",
    "\n",
    "pd.options.mode.chained_assignment = None  # default='warn'\n",
    "pd.set_option('display.max_columns', 500)"
   ]
  },
  {
   "cell_type": "code",
   "execution_count": 37,
   "metadata": {
    "_cell_guid": "c410194d-50ac-04d8-103e-535478c3768e",
    "_uuid": "4808dfd628210ef5c142eba496f2e268584c6556",
    "collapsed": false,
    "scrolled": true
   },
   "outputs": [
    {
     "name": "stdout",
     "output_type": "stream",
     "text": [
      "((30471, 292), (7662, 291))\n"
     ]
    }
   ],
   "source": [
    "###  read the train, test and macro files\n",
    "train_df = pd.read_csv(\"../input/train.csv\", parse_dates=['timestamp'])\n",
    "test_df = pd.read_csv(\"../input/test.csv\", parse_dates=['timestamp'])\n",
    "# macro_df = pd.read_csv(\"../input/macro.csv\", parse_dates=['timestamp'])\n",
    "print(train_df.shape, test_df.shape)"
   ]
  },
  {
   "cell_type": "code",
   "execution_count": 86,
   "metadata": {
    "collapsed": true
   },
   "outputs": [],
   "source": [
    "train_df = pd.read_csv(\"../input/train.csv\", parse_dates=['timestamp'], index_col='id')\n",
    "train_df['id'] = train_df.index\n",
    "test_df = pd.read_csv(\"../input/test.csv\", parse_dates=['timestamp'], index_col='id')\n",
    "test_df['id'] = test_df.index\n",
    "macro_df = pd.read_csv(\"../input/macro.csv\", parse_dates=['timestamp'])\n",
    "fx = pd.read_excel('../input/BAD_ADDRESS_FIX.xlsx').drop_duplicates('id').set_index('id')\n",
    "train_df.update(fx)\n",
    "test_df.update(fx)"
   ]
  },
  {
   "cell_type": "code",
   "execution_count": 57,
   "metadata": {
    "collapsed": false
   },
   "outputs": [
    {
     "name": "stdout",
     "output_type": "stream",
     "text": [
      "((30471, 391), (7662, 390))\n"
     ]
    }
   ],
   "source": [
    "# combine macro information with train and test\n",
    "train_df = pd.merge(train_df, macro_df, how='left', on='timestamp')\n",
    "test_df = pd.merge(test_df, macro_df, how='left', on='timestamp')\n",
    "print(train_df.shape, test_df.shape)"
   ]
  },
  {
   "cell_type": "code",
   "execution_count": 43,
   "metadata": {
    "collapsed": true
   },
   "outputs": [],
   "source": [
    "# truncate the extreme values in price_doc #\n",
    "ulimit = np.percentile(train_df.price_doc.values, 99)\n",
    "llimit = np.percentile(train_df.price_doc.values, 1)\n",
    "train_df['price_doc'].ix[train_df['price_doc']>ulimit] = ulimit\n",
    "train_df['price_doc'].ix[train_df['price_doc']<llimit] = llimit"
   ]
  },
  {
   "cell_type": "code",
   "execution_count": 115,
   "metadata": {
    "collapsed": false
   },
   "outputs": [
    {
     "data": {
      "text/plain": [
       "(30471, 298)"
      ]
     },
     "execution_count": 115,
     "metadata": {},
     "output_type": "execute_result"
    }
   ],
   "source": [
    "train_df.shape"
   ]
  },
  {
   "cell_type": "code",
   "execution_count": 117,
   "metadata": {
    "collapsed": false
   },
   "outputs": [],
   "source": [
    "# undersampling by magic numbers\n",
    "trainsub = train_df[train_df.timestamp < '2015-01-01']\n",
    "trainsub = trainsub[trainsub.product_type==\"Investment\"]\n",
    "ind_1m = trainsub[trainsub.price_doc <= 1000000].index\n",
    "ind_2m = trainsub[trainsub.price_doc == 2000000].index\n",
    "ind_3m = trainsub[trainsub.price_doc == 3000000].index\n",
    "\n",
    "train_index = set(train_df.index.copy())\n",
    "\n",
    "for ind, gap in zip([ind_1m, ind_2m, ind_3m], [10, 3, 2]):\n",
    "    ind_set = set(ind)\n",
    "    ind_set_cut = ind.difference(set(ind[::gap]))\n",
    "\n",
    "    train_index = train_index.difference(ind_set_cut)\n"
   ]
  },
  {
   "cell_type": "code",
   "execution_count": 118,
   "metadata": {
    "collapsed": true
   },
   "outputs": [],
   "source": [
    "train_df = train_df.loc[train_index]"
   ]
  },
  {
   "cell_type": "code",
   "execution_count": 38,
   "metadata": {
    "_cell_guid": "4c99c350-f777-6f21-6fae-d5204619a4ed",
    "_uuid": "8e1f7626d8ea0a893c19166a8acd680fc9cea507",
    "collapsed": false
   },
   "outputs": [],
   "source": [
    "###  convert categorical variables into numerical variables by label encoding\n",
    "objlist = []\n",
    "for f in train_df.columns:\n",
    "    if train_df[f].dtype=='object':\n",
    "        objlist.append(f)       \n",
    "        lbl = preprocessing.LabelEncoder()\n",
    "        lbl.fit(list(train_df[f].values.astype('str')) + list(test_df[f].values.astype('str')))\n",
    "        train_df[f] = lbl.transform(list(train_df[f].values.astype('str')))\n",
    "        test_df[f] = lbl.transform(list(test_df[f].values.astype('str')))"
   ]
  },
  {
   "cell_type": "code",
   "execution_count": null,
   "metadata": {
    "collapsed": true
   },
   "outputs": [],
   "source": [
    "#~ get rid of object column      \n",
    "train_df = train_df.drop(objlist, axis=1)\n",
    "test_df = test_df.drop(objlist, axis=1)"
   ]
  },
  {
   "cell_type": "markdown",
   "metadata": {},
   "source": [
    "# Features Engineering"
   ]
  },
  {
   "cell_type": "markdown",
   "metadata": {
    "_cell_guid": "346938a1-7c79-00b4-b09d-7e1836dc3af3",
    "_uuid": "c345e67f0d3183b9136990c6c9952f77bb053245"
   },
   "source": [
    "We also have some null values in the dataset. So one feature idea could be to use the count of nulls in the row."
   ]
  },
  {
   "cell_type": "markdown",
   "metadata": {
    "_cell_guid": "6bc6df2f-f86a-10bc-2c31-523a3e11dc74",
    "_uuid": "728dddbd23c34f53fb9085520fe856e6c1c09afa"
   },
   "source": [
    "Now let us impute the missing values with some value which is outside the range of values of the column, say -99."
   ]
  },
  {
   "cell_type": "code",
   "execution_count": 128,
   "metadata": {
    "_cell_guid": "79ee31f1-3794-854b-5a4c-70bc9154bbb4",
    "_uuid": "b07a190c0eab0f7c6f7528447abf4dfe6880a79b",
    "collapsed": true
   },
   "outputs": [],
   "source": [
    "train_df.fillna(0, inplace=True)\n",
    "test_df.fillna(0, inplace=True)"
   ]
  },
  {
   "cell_type": "markdown",
   "metadata": {
    "_cell_guid": "8a2da6ce-a816-3f80-ee91-2146d4008afe",
    "_uuid": "e88eb82056820c072f3cbb32bcb5fcfec32deef5"
   },
   "source": [
    "We have a timestamp variable in the dataset and time could be one of an important factor determining the price. So let us extract some features out of the timestamp variable."
   ]
  },
  {
   "cell_type": "code",
   "execution_count": 39,
   "metadata": {
    "_cell_guid": "d48a4d7b-0e9c-91c5-251c-ebb7150fb0ba",
    "_uuid": "0d47bc58d95d408a0f3d589fb8a23d9c13e2abcc",
    "collapsed": false
   },
   "outputs": [],
   "source": [
    "# year and month #\n",
    "train_df[\"yearmonth\"] = train_df[\"timestamp\"].dt.year*100 + train_df[\"timestamp\"].dt.month\n",
    "test_df[\"yearmonth\"] = test_df[\"timestamp\"].dt.year*100 + test_df[\"timestamp\"].dt.month"
   ]
  },
  {
   "cell_type": "code",
   "execution_count": 40,
   "metadata": {
    "collapsed": true
   },
   "outputs": [],
   "source": [
    "# year and week #\n",
    "train_df[\"yearweek\"] = train_df[\"timestamp\"].dt.year*100 + train_df[\"timestamp\"].dt.weekofyear\n",
    "test_df[\"yearweek\"] = test_df[\"timestamp\"].dt.year*100 + test_df[\"timestamp\"].dt.weekofyear"
   ]
  },
  {
   "cell_type": "code",
   "execution_count": 41,
   "metadata": {
    "collapsed": true
   },
   "outputs": [],
   "source": [
    "# year #\n",
    "train_df[\"year\"] = train_df[\"timestamp\"].dt.year\n",
    "test_df[\"year\"] = test_df[\"timestamp\"].dt.year"
   ]
  },
  {
   "cell_type": "code",
   "execution_count": 42,
   "metadata": {
    "collapsed": true
   },
   "outputs": [],
   "source": [
    "# month of year #\n",
    "train_df[\"month_of_year\"] = train_df[\"timestamp\"].dt.month\n",
    "test_df[\"month_of_year\"] = test_df[\"timestamp\"].dt.month"
   ]
  },
  {
   "cell_type": "code",
   "execution_count": 43,
   "metadata": {
    "collapsed": true
   },
   "outputs": [],
   "source": [
    "# week of year #\n",
    "train_df[\"week_of_year\"] = train_df[\"timestamp\"].dt.weekofyear\n",
    "test_df[\"week_of_year\"] = test_df[\"timestamp\"].dt.weekofyear"
   ]
  },
  {
   "cell_type": "code",
   "execution_count": 44,
   "metadata": {
    "collapsed": true
   },
   "outputs": [],
   "source": [
    "# day of week #\n",
    "train_df[\"day_of_week\"] = train_df[\"timestamp\"].dt.weekday\n",
    "test_df[\"day_of_week\"] = test_df[\"timestamp\"].dt.weekday"
   ]
  },
  {
   "cell_type": "code",
   "execution_count": 10,
   "metadata": {
    "collapsed": true
   },
   "outputs": [
    {
     "data": {
      "image/png": "[encoded data removed]",
      "text/plain": [
       "<matplotlib.figure.Figure at 0xc8f6358>"
      ]
     },
     "metadata": {},
     "output_type": "display_data"
    },
    {
     "data": {
      "image/png": "[encoded data removed]",
      "text/plain": [
       "<matplotlib.figure.Figure at 0xc8f1908>"
      ]
     },
     "metadata": {},
     "output_type": "display_data"
    },
    {
     "data": {
      "image/png": "[encoded data removed]",
      "text/plain": [
       "<matplotlib.figure.Figure at 0x1204b0b8>"
      ]
     },
     "metadata": {},
     "output_type": "display_data"
    },
    {
     "data": {
      "image/png": "[encoded data removed]",
      "text/plain": [
       "<matplotlib.figure.Figure at 0x131f1550>"
      ]
     },
     "metadata": {},
     "output_type": "display_data"
    }
   ],
   "source": [
    "# viz above\n",
    "plt.figure(figsize=(12,8))\n",
    "sns.pointplot(x='yearweek', y='price_doc', data=train_df)\n",
    "plt.ylabel('price_doc', fontsize=12)\n",
    "plt.xlabel('yearweek', fontsize=12)\n",
    "plt.title('Median Price distribution by year and week_num')\n",
    "plt.xticks(rotation='vertical')\n",
    "plt.show()\n",
    "\n",
    "plt.figure(figsize=(12,8))\n",
    "sns.boxplot(x='month_of_year', y='price_doc', data=train_df)\n",
    "plt.ylabel('price_doc', fontsize=12)\n",
    "plt.xlabel('month_of_year', fontsize=12)\n",
    "plt.title('Median Price distribution by month_of_year')\n",
    "plt.xticks(rotation='vertical')\n",
    "plt.show()\n",
    "\n",
    "plt.figure(figsize=(12,8))\n",
    "sns.pointplot(x='week_of_year', y='price_doc', data=train_df)\n",
    "plt.ylabel('price_doc', fontsize=12)\n",
    "plt.xlabel('week of the year', fontsize=12)\n",
    "plt.title('Median Price distribution by week of year')\n",
    "plt.xticks(rotation='vertical')\n",
    "plt.show()\n",
    "\n",
    "plt.figure(figsize=(12,8))\n",
    "sns.boxplot(x='day_of_week', y='price_doc', data=train_df)\n",
    "plt.ylabel('price_doc', fontsize=12)\n",
    "plt.xlabel('day_of_week', fontsize=12)\n",
    "plt.title('Median Price distribution by day of week')\n",
    "plt.xticks(rotation='vertical')\n",
    "plt.show()"
   ]
  },
  {
   "cell_type": "markdown",
   "metadata": {
    "_cell_guid": "ddd906fa-864b-dec1-93d1-22070ced517c",
    "_uuid": "e31c116003247c469cc80f55c3ca26cb5d51b864"
   },
   "source": [
    "Also from the [simple exploration notebook][1], we have seen that area of the property is the top variables. So creating some more features might be helpful.\n",
    "\n",
    "Let us create some ratio variables around it.\n",
    "\n",
    "\n",
    "  [1]: https://www.kaggle.com/sudalairajkumar/sberbank-russian-housing-market/simple-exploration-notebook-sberbank"
   ]
  },
  {
   "cell_type": "code",
   "execution_count": 137,
   "metadata": {
    "_cell_guid": "11c1881c-1b6e-fbda-0c61-51ed8f62e9d2",
    "_uuid": "cde56214ae015eb3c610914e3d504e081184d554",
    "collapsed": false
   },
   "outputs": [
    {
     "name": "stderr",
     "output_type": "stream",
     "text": [
      "d:\\Anaconda2\\lib\\site-packages\\ipykernel\\__main__.py:10: RuntimeWarning: invalid value encountered in maximum\n",
      "d:\\Anaconda2\\lib\\site-packages\\ipykernel\\__main__.py:11: RuntimeWarning: invalid value encountered in maximum\n"
     ]
    }
   ],
   "source": [
    "# ratio of living area to full area #\n",
    "train_df[\"ratio_life_sq_full_sq\"] = train_df[\"life_sq\"] / np.maximum(train_df[\"full_sq\"].astype(\"float\"),1)\n",
    "test_df[\"ratio_life_sq_full_sq\"] = test_df[\"life_sq\"] / np.maximum(test_df[\"full_sq\"].astype(\"float\"),1)\n",
    "train_df[\"ratio_life_sq_full_sq\"].ix[train_df[\"ratio_life_sq_full_sq\"]<0] = 0\n",
    "train_df[\"ratio_life_sq_full_sq\"].ix[train_df[\"ratio_life_sq_full_sq\"]>1] = 1\n",
    "test_df[\"ratio_life_sq_full_sq\"].ix[test_df[\"ratio_life_sq_full_sq\"]<0] = 0\n",
    "test_df[\"ratio_life_sq_full_sq\"].ix[test_df[\"ratio_life_sq_full_sq\"]>1] = 1\n",
    "\n",
    "# ratio of kitchen area to living area #\n",
    "train_df[\"ratio_kitch_sq_life_sq\"] = train_df[\"kitch_sq\"] / np.maximum(train_df[\"life_sq\"].astype(\"float\"),1)\n",
    "test_df[\"ratio_kitch_sq_life_sq\"] = test_df[\"kitch_sq\"] / np.maximum(test_df[\"life_sq\"].astype(\"float\"),1)\n",
    "train_df[\"ratio_kitch_sq_life_sq\"].ix[train_df[\"ratio_kitch_sq_life_sq\"]<0] = 0\n",
    "train_df[\"ratio_kitch_sq_life_sq\"].ix[train_df[\"ratio_kitch_sq_life_sq\"]>1] = 1\n",
    "test_df[\"ratio_kitch_sq_life_sq\"].ix[test_df[\"ratio_kitch_sq_life_sq\"]<0] = 0\n",
    "test_df[\"ratio_kitch_sq_life_sq\"].ix[test_df[\"ratio_kitch_sq_life_sq\"]>1] = 1\n",
    "\n",
    "# ratio of kitchen area to full area #\n",
    "train_df[\"ratio_kitch_sq_full_sq\"] = train_df[\"kitch_sq\"] / np.maximum(train_df[\"full_sq\"].astype(\"float\"),1)\n",
    "test_df[\"ratio_kitch_sq_full_sq\"] = test_df[\"kitch_sq\"] / np.maximum(test_df[\"full_sq\"].astype(\"float\"),1)\n",
    "train_df[\"ratio_kitch_sq_full_sq\"].ix[train_df[\"ratio_kitch_sq_full_sq\"]<0] = 0\n",
    "train_df[\"ratio_kitch_sq_full_sq\"].ix[train_df[\"ratio_kitch_sq_full_sq\"]>1] = 1\n",
    "test_df[\"ratio_kitch_sq_full_sq\"].ix[test_df[\"ratio_kitch_sq_full_sq\"]<0] = 0\n",
    "test_df[\"ratio_kitch_sq_full_sq\"].ix[test_df[\"ratio_kitch_sq_full_sq\"]>1] = 1"
   ]
  },
  {
   "cell_type": "code",
   "execution_count": null,
   "metadata": {
    "collapsed": true
   },
   "outputs": [],
   "source": [
    "# viz above\n",
    "plt.figure(figsize=(12,12))\n",
    "sns.jointplot(x=train_df.ratio_life_sq_full_sq.values, y=np.log1p(train_df.price_doc.values), size=10)\n",
    "plt.ylabel('Log of Price', fontsize=12)\n",
    "plt.xlabel('Ratio of living area to full area', fontsize=12)\n",
    "plt.title(\"Joint plot on log of living price to ratio_life_sq_full_sq\")\n",
    "plt.show()\n",
    "\n",
    "plt.figure(figsize=(12,12))\n",
    "sns.jointplot(x=train_df.ratio_life_sq_full_sq.values, y=np.log1p(train_df.price_doc.values), \n",
    "              kind='kde',size=10)\n",
    "plt.ylabel('Log of Price', fontsize=12)\n",
    "plt.xlabel('Ratio of kitchen area to living area', fontsize=12)\n",
    "plt.title(\"Joint plot on log of living price to ratio_kitch_sq_life_sq\")\n",
    "plt.show()\n",
    "\n",
    "plt.figure(figsize=(12,12))\n",
    "sns.jointplot(x=train_df.ratio_life_sq_full_sq.values, y=np.log1p(train_df.price_doc.values), \n",
    "              kind='kde',size=10)\n",
    "plt.ylabel('Log of Price', fontsize=12)\n",
    "plt.xlabel('Ratio of kitchen area to full area', fontsize=12)\n",
    "plt.title(\"Joint plot on log of living price to ratio_kitch_sq_full_sq\")\n",
    "plt.show()"
   ]
  },
  {
   "cell_type": "markdown",
   "metadata": {
    "_cell_guid": "4cc54311-8fd9-9bec-d49d-4fb8aaa7352e",
    "_uuid": "c582f7b89d80d76ce6ee7df35808c4173f62a3a8"
   },
   "source": [
    "Also the next important variables from EDA are floor and max_floor. So let us create two variables\n",
    "\n",
    " 1. Floor number of the house to the total number of floors\n",
    " 2. Number of floor from the top"
   ]
  },
  {
   "cell_type": "code",
   "execution_count": 146,
   "metadata": {
    "_cell_guid": "012f5482-3e04-cf9f-d005-e17d0ed04cf8",
    "_uuid": "f8ba0e0f1f4bdfd18e5e3db372ed0c08252a13c1",
    "collapsed": true
   },
   "outputs": [],
   "source": [
    "# floor of the house to the total number of floors in the house #\n",
    "train_df[\"ratio_floor_max_floor\"] = train_df[\"floor\"] / train_df[\"max_floor\"].astype(\"float\")\n",
    "test_df[\"ratio_floor_max_floor\"] = test_df[\"floor\"] / test_df[\"max_floor\"].astype(\"float\")\n",
    "\n",
    "# num of floor from top #\n",
    "train_df[\"floor_from_top\"] = train_df[\"max_floor\"] - train_df[\"floor\"]\n",
    "test_df[\"floor_from_top\"] = test_df[\"max_floor\"] - test_df[\"floor\"]"
   ]
  },
  {
   "cell_type": "markdown",
   "metadata": {
    "_cell_guid": "aea58331-32ae-2a0e-a70e-4d3d993c1cec",
    "_uuid": "3f935edbb9316e3b8b07ae0d582dd440331bee24"
   },
   "source": [
    "One more variable from floor area could be the difference between full area and living area."
   ]
  },
  {
   "cell_type": "code",
   "execution_count": null,
   "metadata": {
    "_cell_guid": "97cca91d-7075-dfac-4d49-c983586918e3",
    "_uuid": "14443be365153b1e3dfc54ed6b2b2fbb63e54eb6",
    "collapsed": true
   },
   "outputs": [],
   "source": [
    "train_df[\"extra_sq\"] = train_df[\"full_sq\"] - train_df[\"life_sq\"]\n",
    "test_df[\"extra_sq\"] = test_df[\"full_sq\"] - test_df[\"life_sq\"]"
   ]
  },
  {
   "cell_type": "markdown",
   "metadata": {
    "_cell_guid": "0cc1a076-8c7a-8126-42ed-ebee7dbf30d0",
    "_uuid": "4cf8c1e8aecfca03cba1c18bb1aa5604237b4f07"
   },
   "source": [
    "Age of building might have an impact in the rental price and so we can add that one as well."
   ]
  },
  {
   "cell_type": "code",
   "execution_count": null,
   "metadata": {
    "_cell_guid": "fcc4c6cb-7084-2dc1-c581-4323f239647e",
    "_uuid": "476fb5a009483292da63c0b88416cec6dd82ecd7",
    "collapsed": false
   },
   "outputs": [],
   "source": [
    "train_df[\"age_of_building\"] = train_df[\"build_year\"] - train_df[\"timestamp\"].dt.year\n",
    "test_df[\"age_of_building\"] = test_df[\"build_year\"] - test_df[\"timestamp\"].dt.year"
   ]
  },
  {
   "cell_type": "markdown",
   "metadata": {
    "_cell_guid": "11492887-5415-b922-b49e-952bd255058e",
    "_uuid": "23b583e5388fe1d210cb92dea58f07a0d61b0708"
   },
   "source": [
    "Price of the house could also be affected by the availability of other houses at the same time period. So creating a count variable on the number of houses at the given time period might help."
   ]
  },
  {
   "cell_type": "code",
   "execution_count": null,
   "metadata": {
    "_cell_guid": "dd00ea72-a1d1-846b-1b70-8e3471212f03",
    "_uuid": "8eb289d18fece530535a8fc7466e43b8825a6037",
    "collapsed": true
   },
   "outputs": [],
   "source": [
    "def add_count(df, group_col):\n",
    "    grouped_df = df.groupby(group_col)[\"id\"].aggregate(\"count\").reset_index()\n",
    "    grouped_df.columns = [group_col, \"count_\"+group_col]\n",
    "    df = pd.merge(df, grouped_df, on=group_col, how=\"left\")\n",
    "    return df\n",
    "\n",
    "train_df = add_count(train_df, \"yearmonth\")\n",
    "test_df = add_count(test_df, \"yearmonth\")\n",
    "\n",
    "train_df = add_count(train_df, \"yearweek\")\n",
    "test_df = add_count(test_df, \"yearweek\")"
   ]
  },
  {
   "cell_type": "markdown",
   "metadata": {
    "_cell_guid": "c627f175-c39b-582b-a273-f34a5610b52d",
    "_uuid": "4a4c799c918cb851f917012894d1abcc6ee9d314"
   },
   "source": [
    "Since schools generally play an important role in house hunting, let us create some variables around school."
   ]
  },
  {
   "cell_type": "code",
   "execution_count": 149,
   "metadata": {
    "_cell_guid": "909e4c3d-0524-0eb5-7fa5-e9e908193da7",
    "_uuid": "736e58b65c070b7bc7563708158b6fbabdaa56c3",
    "collapsed": true
   },
   "outputs": [],
   "source": [
    "train_df[\"ratio_preschool\"] = train_df[\"children_preschool\"] / train_df[\"preschool_quota\"].astype(\"float\")\n",
    "test_df[\"ratio_preschool\"] = test_df[\"children_preschool\"] / test_df[\"preschool_quota\"].astype(\"float\")\n",
    "\n",
    "train_df[\"ratio_school\"] = train_df[\"children_school\"] / train_df[\"school_quota\"].astype(\"float\")\n",
    "test_df[\"ratio_school\"] = test_df[\"children_school\"] / test_df[\"school_quota\"].astype(\"float\")"
   ]
  },
  {
   "cell_type": "markdown",
   "metadata": {},
   "source": [
    "## drop"
   ]
  },
  {
   "cell_type": "code",
   "execution_count": 45,
   "metadata": {
    "_cell_guid": "ae79d7d0-78d8-4cad-2ac0-a84eab7748c4",
    "_uuid": "0342a029c7005bc55f94ccde5bd7f706d5bbe38e",
    "collapsed": true
   },
   "outputs": [],
   "source": [
    "### We could potentially add more variables like this. But for now let us start with model building using these additional variables. Let us drop the variables which are not needed in model building.\n",
    "train_X = train_df.drop([\"id\", \"timestamp\", \"price_doc\"], axis=1)\n",
    "test_X = test_df.drop([\"id\", \"timestamp\"] , axis=1)\n",
    "# Since our metric is \"RMSLE\", let us use log of the target variable for model building rather than using the actual target variable.\n",
    "# train_y = np.log1p(train_df.price_doc.values)\n",
    "train_y =(train_df.price_doc.values)"
   ]
  },
  {
   "cell_type": "markdown",
   "metadata": {
    "_cell_guid": "7aebaa03-6615-a0f9-1c63-39db22758de6",
    "_uuid": "46e2e33ff60c2a5c3080fe0cfe1ccff525c305e1"
   },
   "source": [
    "# CV\n",
    "**Validation Methodology:**\n",
    "\n",
    "But before building our models, let us do some local validation by splitting the train dataset.\n",
    "\n",
    "In this competition, the train and test set are from different time periods and so let us use the last 1 year as validation set for building our models and rest as model development set."
   ]
  },
  {
   "cell_type": "code",
   "execution_count": 46,
   "metadata": {
    "_cell_guid": "ebe969ec-b0c8-e513-a398-2b9fb1a2b52d",
    "_uuid": "2b8c2fc7001442bbdcbd16e774525ffe37c8f969",
    "collapsed": false
   },
   "outputs": [],
   "source": [
    "val_time = 201407\n",
    "#dev_indices = np.where(train_X[\"yearmonth\"]<val_time)\n",
    "#val_indices = np.where(train_X[\"yearmonth\"]>=val_time)\n",
    "\n",
    "dev_indices = np.where((train_df[\"timestamp\"].dt.year<2014).values | ((train_df[\"timestamp\"].dt.year == 2014).values & (train_df[\"timestamp\"].dt.month < 7).values))\n",
    "val_indices = np.where((train_df[\"timestamp\"].dt.year>2014).values | ((train_df[\"timestamp\"].dt.year == 2014).values & (train_df[\"timestamp\"].dt.month >= 7).values))"
   ]
  },
  {
   "cell_type": "code",
   "execution_count": 47,
   "metadata": {
    "collapsed": false
   },
   "outputs": [
    {
     "name": "stdout",
     "output_type": "stream",
     "text": [
      "((20483, 295), (9988, 295))\n"
     ]
    }
   ],
   "source": [
    "dev_X = train_X.ix[dev_indices]\n",
    "val_X = train_X.ix[val_indices]\n",
    "dev_y = train_y[dev_indices]\n",
    "val_y = train_y[val_indices]\n",
    "print(dev_X.shape, val_X.shape)"
   ]
  },
  {
   "cell_type": "code",
   "execution_count": 48,
   "metadata": {
    "collapsed": true
   },
   "outputs": [],
   "source": [
    "xgb_params = {\n",
    "    'eta': 0.05,\n",
    "    'max_depth': 5,\n",
    "    'subsample': 0.7,\n",
    "    'colsample_bytree': 0.7,\n",
    "    'objective': 'reg:linear',\n",
    "    'eval_metric': 'rmse',\n",
    "    'silent': 1,\n",
    "}"
   ]
  },
  {
   "cell_type": "code",
   "execution_count": 49,
   "metadata": {
    "_cell_guid": "6581730f-9187-0f19-7aad-0dcd58e70114",
    "_uuid": "14eb1527843ffeece963a4f8678647f9238665b3",
    "collapsed": false
   },
   "outputs": [
    {
     "name": "stdout",
     "output_type": "stream",
     "text": [
      "[0]\ttrain-rmse:7.84908e+06\ttest-rmse:8.99504e+06\n",
      "Multiple eval metrics have been passed: 'test-rmse' will be used for early stopping.\n",
      "\n",
      "Will train until test-rmse hasn't improved in 20 rounds.\n",
      "[20]\ttrain-rmse:3.87682e+06\ttest-rmse:4.80027e+06\n",
      "[40]\ttrain-rmse:2.72392e+06\ttest-rmse:3.47801e+06\n",
      "[60]\ttrain-rmse:2.40758e+06\ttest-rmse:3.08318e+06\n",
      "[80]\ttrain-rmse:2.27091e+06\ttest-rmse:2.94306e+06\n",
      "[100]\ttrain-rmse:2.19472e+06\ttest-rmse:2.87043e+06\n",
      "[120]\ttrain-rmse:2.13342e+06\ttest-rmse:2.83394e+06\n",
      "[140]\ttrain-rmse:2.0866e+06\ttest-rmse:2.80011e+06\n",
      "[160]\ttrain-rmse:2.04652e+06\ttest-rmse:2.77718e+06\n",
      "[180]\ttrain-rmse:2.01475e+06\ttest-rmse:2.76559e+06\n",
      "[200]\ttrain-rmse:1.98004e+06\ttest-rmse:2.75233e+06\n",
      "[220]\ttrain-rmse:1.95144e+06\ttest-rmse:2.74277e+06\n",
      "[240]\ttrain-rmse:1.92283e+06\ttest-rmse:2.73573e+06\n",
      "[260]\ttrain-rmse:1.89125e+06\ttest-rmse:2.72518e+06\n",
      "[280]\ttrain-rmse:1.86684e+06\ttest-rmse:2.71942e+06\n",
      "[300]\ttrain-rmse:1.84437e+06\ttest-rmse:2.70706e+06\n",
      "[320]\ttrain-rmse:1.82066e+06\ttest-rmse:2.70329e+06\n",
      "[340]\ttrain-rmse:1.79592e+06\ttest-rmse:2.70051e+06\n",
      "[360]\ttrain-rmse:1.77408e+06\ttest-rmse:2.6953e+06\n",
      "[380]\ttrain-rmse:1.75144e+06\ttest-rmse:2.69756e+06\n",
      "Stopping. Best iteration:\n",
      "[360]\ttrain-rmse:1.77408e+06\ttest-rmse:2.6953e+06\n",
      "\n"
     ]
    }
   ],
   "source": [
    "xgtrain = xgb.DMatrix(dev_X, dev_y, feature_names=dev_X.columns)\n",
    "xgtest = xgb.DMatrix(val_X, val_y, feature_names=val_X.columns)\n",
    "watchlist = [ (xgtrain,'train'), (xgtest, 'test') ]\n",
    "num_rounds = 1000 # Increase the number of rounds while running in local\n",
    "model = xgb.train(xgb_params, xgtrain, num_rounds, watchlist, early_stopping_rounds=20, verbose_eval=20)\n",
    "# feval=lambda a,b: ('myrmse',rmse(a,b.get_label()))"
   ]
  },
  {
   "cell_type": "code",
   "execution_count": 50,
   "metadata": {
    "collapsed": false
   },
   "outputs": [
    {
     "name": "stdout",
     "output_type": "stream",
     "text": [
      "2697558.1945\n",
      "0.422684521455\n"
     ]
    }
   ],
   "source": [
    "dtest = xgb.DMatrix(pd.DataFrame(val_X))\n",
    "y_predict = model.predict(dtest)\n",
    "print rmse(y_predict,val_y)\n",
    "print logrmse(y_predict,val_y)"
   ]
  },
  {
   "cell_type": "code",
   "execution_count": 51,
   "metadata": {
    "collapsed": false
   },
   "outputs": [
    {
     "name": "stdout",
     "output_type": "stream",
     "text": [
      "1751435.4331\n",
      "0.438434588714\n"
     ]
    }
   ],
   "source": [
    "dtest = xgb.DMatrix(pd.DataFrame(dev_X))\n",
    "y_predict = model.predict(dtest)\n",
    "print rmse(y_predict,dev_y)\n",
    "print logrmse(y_predict,dev_y)"
   ]
  },
  {
   "cell_type": "code",
   "execution_count": 16,
   "metadata": {
    "collapsed": false
   },
   "outputs": [],
   "source": [
    "temp = dev_y > 0"
   ]
  },
  {
   "cell_type": "markdown",
   "metadata": {},
   "source": [
    "## direct CV"
   ]
  },
  {
   "cell_type": "code",
   "execution_count": 354,
   "metadata": {
    "collapsed": true
   },
   "outputs": [],
   "source": [
    "dtrain = xgb.DMatrix(train_X, train_y)"
   ]
  },
  {
   "cell_type": "markdown",
   "metadata": {},
   "source": [
    "#### cv after log"
   ]
  },
  {
   "cell_type": "code",
   "execution_count": 283,
   "metadata": {
    "collapsed": false
   },
   "outputs": [
    {
     "name": "stdout",
     "output_type": "stream",
     "text": [
      "[0]\ttrain-rmse:14.3667\ttest-rmse:14.3667\n",
      "[20]\ttrain-rmse:5.17349\ttest-rmse:5.17359\n",
      "[40]\ttrain-rmse:1.90789\ttest-rmse:1.91052\n",
      "[60]\ttrain-rmse:0.806748\ttest-rmse:0.816336\n",
      "[80]\ttrain-rmse:0.507084\ttest-rmse:0.526466\n",
      "[100]\ttrain-rmse:0.447713\ttest-rmse:0.474291\n",
      "[120]\ttrain-rmse:0.433706\ttest-rmse:0.465491\n",
      "[140]\ttrain-rmse:0.427\ttest-rmse:0.463424\n",
      "[160]\ttrain-rmse:0.42197\ttest-rmse:0.462722\n",
      "[180]\ttrain-rmse:0.417581\ttest-rmse:0.462275\n",
      "[200]\ttrain-rmse:0.413204\ttest-rmse:0.461991\n",
      "[220]\ttrain-rmse:0.409114\ttest-rmse:0.461691\n"
     ]
    }
   ],
   "source": [
    "# wrong sample\n",
    "cv_output = xgb.cv(xgb_params, dtrain, 1000, nfold=5,\n",
    "       seed = 0, early_stopping_rounds=20, verbose_eval=20,\n",
    "       show_stdv=False)"
   ]
  },
  {
   "cell_type": "markdown",
   "metadata": {},
   "source": [
    "#### cv without log"
   ]
  },
  {
   "cell_type": "code",
   "execution_count": 37,
   "metadata": {
    "collapsed": false
   },
   "outputs": [
    {
     "name": "stdout",
     "output_type": "stream",
     "text": [
      "[0]\ttrain-logrmse:2.95226\ttrain-rmse:8.20718e+06\ttest-logrmse:2.95454\ttest-rmse:8.21206e+06\n",
      "[50]\ttrain-logrmse:0.464561\ttrain-rmse:2.54129e+06\ttest-logrmse:0.474166\ttest-rmse:2.88807e+06\n",
      "[100]\ttrain-logrmse:0.460493\ttrain-rmse:2.20715e+06\ttest-logrmse:0.474744\ttest-rmse:2.70359e+06\n",
      "[150]\ttrain-logrmse:0.45279\ttrain-rmse:2.07908e+06\ttest-logrmse:0.472054\ttest-rmse:2.66119e+06\n",
      "[200]\ttrain-logrmse:0.445596\ttrain-rmse:1.98742e+06\ttest-logrmse:0.470056\ttest-rmse:2.63957e+06\n",
      "[250]\ttrain-logrmse:0.439135\ttrain-rmse:1.91377e+06\ttest-logrmse:0.46864\ttest-rmse:2.62645e+06\n",
      "[300]\ttrain-logrmse:0.433103\ttrain-rmse:1.85385e+06\ttest-logrmse:0.467786\ttest-rmse:2.6163e+06\n",
      "[350]\ttrain-logrmse:0.427187\ttrain-rmse:1.79677e+06\ttest-logrmse:0.467101\ttest-rmse:2.60882e+06\n",
      "[400]\ttrain-logrmse:0.421469\ttrain-rmse:1.74633e+06\ttest-logrmse:0.466734\ttest-rmse:2.60535e+06\n",
      "[450]\ttrain-logrmse:0.415883\ttrain-rmse:1.70027e+06\ttest-logrmse:0.46653\ttest-rmse:2.60418e+06\n",
      "[500]\ttrain-logrmse:0.410648\ttrain-rmse:1.65904e+06\ttest-logrmse:0.466413\ttest-rmse:2.6025e+06\n"
     ]
    }
   ],
   "source": [
    "# macro timestamp fix\n",
    "cv_output = xgb.cv(xgb_params, dtrain, 1000, nfold=5,\n",
    "       seed = 0, early_stopping_rounds=20, verbose_eval=50,feval=xgblogrmse,\n",
    "       show_stdv=False)"
   ]
  },
  {
   "cell_type": "code",
   "execution_count": 355,
   "metadata": {
    "collapsed": true
   },
   "outputs": [
    {
     "name": "stdout",
     "output_type": "stream",
     "text": [
      "[0]\ttrain-logrmse:2.95609\ttrain-rmse:8.41275e+06\ttest-logrmse:2.95691\ttest-rmse:8.41873e+06\n",
      "[50]\ttrain-logrmse:0.325862\ttrain-rmse:2.26813e+06\ttest-logrmse:0.335466\ttest-rmse:2.68576e+06\n",
      "[100]\ttrain-logrmse:0.316615\ttrain-rmse:1.8866e+06\ttest-logrmse:0.330591\ttest-rmse:2.47801e+06\n",
      "[150]\ttrain-logrmse:0.308977\ttrain-rmse:1.7519e+06\ttest-logrmse:0.327137\ttest-rmse:2.42226e+06\n",
      "[200]\ttrain-logrmse:0.302593\ttrain-rmse:1.66147e+06\ttest-logrmse:0.32495\ttest-rmse:2.39706e+06\n",
      "[250]\ttrain-logrmse:0.297311\ttrain-rmse:1.58877e+06\ttest-logrmse:0.323832\ttest-rmse:2.38341e+06\n",
      "[300]\ttrain-logrmse:0.292181\ttrain-rmse:1.52651e+06\ttest-logrmse:0.322872\ttest-rmse:2.37389e+06\n",
      "[350]\ttrain-logrmse:0.28744\ttrain-rmse:1.47359e+06\ttest-logrmse:0.322164\ttest-rmse:2.36608e+06\n",
      "[400]\ttrain-logrmse:0.282888\ttrain-rmse:1.42597e+06\ttest-logrmse:0.321744\ttest-rmse:2.36161e+06\n",
      "[450]\ttrain-logrmse:0.278534\ttrain-rmse:1.38225e+06\ttest-logrmse:0.321353\ttest-rmse:2.35665e+06\n",
      "[500]\ttrain-logrmse:0.27437\ttrain-rmse:1.34326e+06\ttest-logrmse:0.321093\ttest-rmse:2.35242e+06\n"
     ]
    }
   ],
   "source": [
    "# macro downsample timestamp\n",
    "cv_output = xgb.cv(xgb_params, dtrain, 1000, nfold=5,\n",
    "       seed = 0, early_stopping_rounds=20, verbose_eval=50,feval=xgblogrmse,\n",
    "       show_stdv=False)"
   ]
  },
  {
   "cell_type": "code",
   "execution_count": 341,
   "metadata": {
    "collapsed": true
   },
   "outputs": [
    {
     "name": "stdout",
     "output_type": "stream",
     "text": [
      "[0]\ttrain-logrmse:2.95588\ttrain-rmse:8.41323e+06\ttest-logrmse:2.95707\ttest-rmse:8.41866e+06\n",
      "[50]\ttrain-logrmse:0.325787\ttrain-rmse:2.27829e+06\ttest-logrmse:0.336052\ttest-rmse:2.69718e+06\n",
      "[100]\ttrain-logrmse:0.316698\ttrain-rmse:1.89031e+06\ttest-logrmse:0.331184\ttest-rmse:2.49191e+06\n",
      "[150]\ttrain-logrmse:0.309296\ttrain-rmse:1.75523e+06\ttest-logrmse:0.327924\ttest-rmse:2.44224e+06\n",
      "[200]\ttrain-logrmse:0.302602\ttrain-rmse:1.65932e+06\ttest-logrmse:0.325646\ttest-rmse:2.41349e+06\n",
      "[250]\ttrain-logrmse:0.297044\ttrain-rmse:1.58587e+06\ttest-logrmse:0.324352\ttest-rmse:2.40049e+06\n",
      "[300]\ttrain-logrmse:0.291731\ttrain-rmse:1.52198e+06\ttest-logrmse:0.323491\ttest-rmse:2.38841e+06\n",
      "[350]\ttrain-logrmse:0.287088\ttrain-rmse:1.47172e+06\ttest-logrmse:0.323035\ttest-rmse:2.38304e+06\n",
      "[400]\ttrain-logrmse:0.282705\ttrain-rmse:1.42441e+06\ttest-logrmse:0.322556\ttest-rmse:2.37791e+06\n",
      "[450]\ttrain-logrmse:0.278312\ttrain-rmse:1.38095e+06\ttest-logrmse:0.322128\ttest-rmse:2.37318e+06\n",
      "[500]\ttrain-logrmse:0.274109\ttrain-rmse:1.34189e+06\ttest-logrmse:0.321827\ttest-rmse:2.3696e+06\n",
      "[550]\ttrain-logrmse:0.269972\ttrain-rmse:1.304e+06\ttest-logrmse:0.321666\ttest-rmse:2.36678e+06\n",
      "[600]\ttrain-logrmse:0.266031\ttrain-rmse:1.27017e+06\ttest-logrmse:0.321508\ttest-rmse:2.36467e+06\n",
      "[650]\ttrain-logrmse:0.262036\ttrain-rmse:1.23735e+06\ttest-logrmse:0.321416\ttest-rmse:2.36324e+06\n",
      "[700]\ttrain-logrmse:0.258187\ttrain-rmse:1.20778e+06\ttest-logrmse:0.321288\ttest-rmse:2.36146e+06\n"
     ]
    }
   ],
   "source": [
    "# macro downsample\n",
    "cv_output = xgb.cv(xgb_params, dtrain, 1000, nfold=5,\n",
    "       seed = 0, early_stopping_rounds=20, verbose_eval=50,feval=xgblogrmse,\n",
    "       show_stdv=False)"
   ]
  },
  {
   "cell_type": "code",
   "execution_count": 324,
   "metadata": {
    "collapsed": false
   },
   "outputs": [
    {
     "name": "stdout",
     "output_type": "stream",
     "text": [
      "[0]\ttrain-logrmse:2.95259\ttrain-rmse:8.20721e+06\ttest-logrmse:2.95522\ttest-rmse:8.21234e+06\n",
      "[50]\ttrain-logrmse:0.464394\ttrain-rmse:2.53255e+06\ttest-logrmse:0.474136\ttest-rmse:2.88248e+06\n",
      "[100]\ttrain-logrmse:0.46012\ttrain-rmse:2.20047e+06\ttest-logrmse:0.474671\ttest-rmse:2.69766e+06\n",
      "[150]\ttrain-logrmse:0.452452\ttrain-rmse:2.07756e+06\ttest-logrmse:0.47203\ttest-rmse:2.64923e+06\n",
      "[200]\ttrain-logrmse:0.445368\ttrain-rmse:1.98736e+06\ttest-logrmse:0.47024\ttest-rmse:2.62823e+06\n",
      "[250]\ttrain-logrmse:0.439031\ttrain-rmse:1.9153e+06\ttest-logrmse:0.469241\ttest-rmse:2.61734e+06\n",
      "[300]\ttrain-logrmse:0.43274\ttrain-rmse:1.852e+06\ttest-logrmse:0.468455\ttest-rmse:2.61094e+06\n",
      "[350]\ttrain-logrmse:0.426969\ttrain-rmse:1.79705e+06\ttest-logrmse:0.467837\ttest-rmse:2.60484e+06\n",
      "[400]\ttrain-logrmse:0.421463\ttrain-rmse:1.74748e+06\ttest-logrmse:0.467495\ttest-rmse:2.60406e+06\n"
     ]
    }
   ],
   "source": [
    "# macro timestamp\n",
    "cv_output = xgb.cv(xgb_params, dtrain, 1000, nfold=5,\n",
    "       seed = 0, early_stopping_rounds=20, verbose_eval=50,feval=xgblogrmse,\n",
    "       show_stdv=False)"
   ]
  },
  {
   "cell_type": "code",
   "execution_count": 261,
   "metadata": {
    "collapsed": false
   },
   "outputs": [
    {
     "name": "stdout",
     "output_type": "stream",
     "text": [
      "[0]\ttrain-logrmse:2.95226\ttrain-rmse:8.20718e+06\ttest-logrmse:2.95454\ttest-rmse:8.21206e+06\n",
      "[20]\ttrain-logrmse:0.573094\ttrain-rmse:3.97013e+06\ttest-logrmse:0.578197\ttest-rmse:4.09554e+06\n",
      "[40]\ttrain-logrmse:0.468981\ttrain-rmse:2.76208e+06\ttest-logrmse:0.477491\ttest-rmse:3.04751e+06\n",
      "[60]\ttrain-logrmse:0.463858\ttrain-rmse:2.4209e+06\ttest-logrmse:0.474402\ttest-rmse:2.80824e+06\n",
      "[80]\ttrain-logrmse:0.462677\ttrain-rmse:2.28646e+06\ttest-logrmse:0.475091\ttest-rmse:2.7375e+06\n",
      "[100]\ttrain-logrmse:0.460493\ttrain-rmse:2.20715e+06\ttest-logrmse:0.474744\ttest-rmse:2.70359e+06\n",
      "[120]\ttrain-logrmse:0.457556\ttrain-rmse:2.14953e+06\ttest-logrmse:0.473692\ttest-rmse:2.68487e+06\n",
      "[140]\ttrain-logrmse:0.45427\ttrain-rmse:2.10133e+06\ttest-logrmse:0.4726\ttest-rmse:2.6672e+06\n",
      "[160]\ttrain-logrmse:0.451218\ttrain-rmse:2.05851e+06\ttest-logrmse:0.471611\ttest-rmse:2.65689e+06\n",
      "[180]\ttrain-logrmse:0.448261\ttrain-rmse:2.01969e+06\ttest-logrmse:0.470683\ttest-rmse:2.64626e+06\n",
      "[200]\ttrain-logrmse:0.445596\ttrain-rmse:1.98742e+06\ttest-logrmse:0.470056\ttest-rmse:2.63957e+06\n",
      "[220]\ttrain-logrmse:0.44296\ttrain-rmse:1.957e+06\ttest-logrmse:0.469431\ttest-rmse:2.63408e+06\n",
      "[240]\ttrain-logrmse:0.440438\ttrain-rmse:1.92793e+06\ttest-logrmse:0.468923\ttest-rmse:2.62883e+06\n",
      "[260]\ttrain-logrmse:0.437841\ttrain-rmse:1.90035e+06\ttest-logrmse:0.468458\ttest-rmse:2.62484e+06\n",
      "[280]\ttrain-logrmse:0.435455\ttrain-rmse:1.87552e+06\ttest-logrmse:0.468122\ttest-rmse:2.61931e+06\n",
      "[300]\ttrain-logrmse:0.433103\ttrain-rmse:1.85385e+06\ttest-logrmse:0.467786\ttest-rmse:2.6163e+06\n",
      "[320]\ttrain-logrmse:0.430623\ttrain-rmse:1.82997e+06\ttest-logrmse:0.467393\ttest-rmse:2.61238e+06\n",
      "[340]\ttrain-logrmse:0.428303\ttrain-rmse:1.80729e+06\ttest-logrmse:0.467181\ttest-rmse:2.60922e+06\n",
      "[360]\ttrain-logrmse:0.425996\ttrain-rmse:1.78611e+06\ttest-logrmse:0.467018\ttest-rmse:2.60794e+06\n",
      "[380]\ttrain-logrmse:0.423614\ttrain-rmse:1.76545e+06\ttest-logrmse:0.46687\ttest-rmse:2.60641e+06\n",
      "[400]\ttrain-logrmse:0.421469\ttrain-rmse:1.74633e+06\ttest-logrmse:0.466734\ttest-rmse:2.60535e+06\n",
      "[420]\ttrain-logrmse:0.419269\ttrain-rmse:1.72779e+06\ttest-logrmse:0.466655\ttest-rmse:2.60481e+06\n",
      "[440]\ttrain-logrmse:0.417073\ttrain-rmse:1.70993e+06\ttest-logrmse:0.466603\ttest-rmse:2.6049e+06\n",
      "[460]\ttrain-logrmse:0.41496\ttrain-rmse:1.6923e+06\ttest-logrmse:0.466535\ttest-rmse:2.60358e+06\n",
      "[480]\ttrain-logrmse:0.412971\ttrain-rmse:1.67617e+06\ttest-logrmse:0.466458\ttest-rmse:2.60251e+06\n",
      "[500]\ttrain-logrmse:0.410648\ttrain-rmse:1.65904e+06\ttest-logrmse:0.466413\ttest-rmse:2.6025e+06\n"
     ]
    }
   ],
   "source": [
    "# macro\n",
    "cv_output = xgb.cv(xgb_params, dtrain, 1000, nfold=5,\n",
    "       seed = 0, early_stopping_rounds=20, verbose_eval=20,feval=xgblogrmse,\n",
    "       show_stdv=False)"
   ]
  },
  {
   "cell_type": "code",
   "execution_count": 236,
   "metadata": {
    "collapsed": true
   },
   "outputs": [
    {
     "name": "stdout",
     "output_type": "stream",
     "text": [
      "[0]\ttrain-logrmse:2.94499\ttrain-rmse:8.22045e+06\ttest-logrmse:2.94555\ttest-rmse:8.22318e+06\n",
      "[20]\ttrain-logrmse:0.573758\ttrain-rmse:3.96821e+06\ttest-logrmse:0.578467\ttest-rmse:4.08667e+06\n",
      "[40]\ttrain-logrmse:0.469632\ttrain-rmse:2.76346e+06\ttest-logrmse:0.47726\ttest-rmse:3.02471e+06\n",
      "[60]\ttrain-logrmse:0.465\ttrain-rmse:2.42926e+06\ttest-logrmse:0.474832\ttest-rmse:2.78547e+06\n",
      "[80]\ttrain-logrmse:0.464304\ttrain-rmse:2.29869e+06\ttest-logrmse:0.475891\ttest-rmse:2.71693e+06\n",
      "[100]\ttrain-logrmse:0.462663\ttrain-rmse:2.22622e+06\ttest-logrmse:0.475735\ttest-rmse:2.68301e+06\n",
      "[120]\ttrain-logrmse:0.46022\ttrain-rmse:2.17492e+06\ttest-logrmse:0.474747\ttest-rmse:2.66177e+06\n",
      "[140]\ttrain-logrmse:0.45782\ttrain-rmse:2.13267e+06\ttest-logrmse:0.47402\ttest-rmse:2.64742e+06\n",
      "[160]\ttrain-logrmse:0.455412\ttrain-rmse:2.09733e+06\ttest-logrmse:0.473233\ttest-rmse:2.63836e+06\n",
      "[180]\ttrain-logrmse:0.452808\ttrain-rmse:2.06289e+06\ttest-logrmse:0.4725\ttest-rmse:2.62832e+06\n",
      "[200]\ttrain-logrmse:0.450576\ttrain-rmse:2.03187e+06\ttest-logrmse:0.471944\ttest-rmse:2.62162e+06\n",
      "[220]\ttrain-logrmse:0.448405\ttrain-rmse:2.00561e+06\ttest-logrmse:0.471231\ttest-rmse:2.61559e+06\n",
      "[240]\ttrain-logrmse:0.44629\ttrain-rmse:1.98058e+06\ttest-logrmse:0.470852\ttest-rmse:2.61076e+06\n",
      "[260]\ttrain-logrmse:0.444129\ttrain-rmse:1.95623e+06\ttest-logrmse:0.47046\ttest-rmse:2.60753e+06\n",
      "[280]\ttrain-logrmse:0.441906\ttrain-rmse:1.93177e+06\ttest-logrmse:0.470078\ttest-rmse:2.60562e+06\n",
      "[300]\ttrain-logrmse:0.439909\ttrain-rmse:1.91073e+06\ttest-logrmse:0.469796\ttest-rmse:2.60286e+06\n",
      "[320]\ttrain-logrmse:0.437875\ttrain-rmse:1.89017e+06\ttest-logrmse:0.46949\ttest-rmse:2.59996e+06\n",
      "[340]\ttrain-logrmse:0.436038\ttrain-rmse:1.87173e+06\ttest-logrmse:0.469338\ttest-rmse:2.59855e+06\n",
      "[360]\ttrain-logrmse:0.434086\ttrain-rmse:1.85242e+06\ttest-logrmse:0.469134\ttest-rmse:2.59644e+06\n",
      "[380]\ttrain-logrmse:0.432162\ttrain-rmse:1.83306e+06\ttest-logrmse:0.469015\ttest-rmse:2.59534e+06\n",
      "[400]\ttrain-logrmse:0.43037\ttrain-rmse:1.81578e+06\ttest-logrmse:0.468916\ttest-rmse:2.59444e+06\n",
      "[420]\ttrain-logrmse:0.428397\ttrain-rmse:1.798e+06\ttest-logrmse:0.468792\ttest-rmse:2.59371e+06\n",
      "[440]\ttrain-logrmse:0.426642\ttrain-rmse:1.78212e+06\ttest-logrmse:0.468713\ttest-rmse:2.59286e+06\n",
      "[460]\ttrain-logrmse:0.424937\ttrain-rmse:1.76689e+06\ttest-logrmse:0.468591\ttest-rmse:2.59227e+06\n"
     ]
    }
   ],
   "source": [
    "# normal\n",
    "cv_output = xgb.cv(xgb_params, dtrain, 1000, nfold=5,\n",
    "       seed = 0, early_stopping_rounds=20, verbose_eval=20,feval=xgblogrmse,\n",
    "       show_stdv=False)"
   ]
  },
  {
   "cell_type": "markdown",
   "metadata": {
    "_cell_guid": "fa7de33d-dee9-58da-c227-3841609c03cc",
    "_uuid": "f6d21232662a472c199d2fdf6ad8d31864b56725"
   },
   "source": [
    "Beware that adding irrelevant variables will degrade the performance of the models. So use cross-validation and pick the best ones.! "
   ]
  },
  {
   "cell_type": "code",
   "execution_count": null,
   "metadata": {
    "_cell_guid": "2b967526-a512-1988-1cef-58d50d53dff3",
    "_uuid": "4bdcbb7492aace4e9c33e3f3ae7cb2d9b186173d",
    "collapsed": true
   },
   "outputs": [],
   "source": [
    "# plot the important features #\n",
    "fig, ax = plt.subplots(figsize=(12,18))\n",
    "xgb.plot_importance(model, max_num_features=50, height=0.8, ax=ax)\n",
    "plt.show()"
   ]
  },
  {
   "cell_type": "markdown",
   "metadata": {},
   "source": [
    "# xgb train and predict"
   ]
  },
  {
   "cell_type": "code",
   "execution_count": 52,
   "metadata": {
    "collapsed": false,
    "scrolled": true
   },
   "outputs": [],
   "source": [
    "dtrain = xgb.DMatrix(train_X, train_y)\n",
    "num_boost_rounds = 380\n",
    "model = xgb.train(dict(xgb_params, silent=0), dtrain, num_boost_round= num_boost_rounds)"
   ]
  },
  {
   "cell_type": "code",
   "execution_count": null,
   "metadata": {
    "collapsed": true
   },
   "outputs": [],
   "source": [
    "model.save_model(\"xgb.model\")"
   ]
  },
  {
   "cell_type": "code",
   "execution_count": 53,
   "metadata": {
    "collapsed": false
   },
   "outputs": [],
   "source": [
    "dtest = xgb.DMatrix(pd.DataFrame(test_X))\n",
    "y_predict = model.predict(dtest)\n",
    "#y_predict = np.exp(y_predict)\n",
    "y_predict = (y_predict)"
   ]
  },
  {
   "cell_type": "code",
   "execution_count": 158,
   "metadata": {
    "collapsed": true
   },
   "outputs": [],
   "source": [
    "y_predict = y_predict * 0.96"
   ]
  },
  {
   "cell_type": "code",
   "execution_count": 54,
   "metadata": {
    "collapsed": true
   },
   "outputs": [],
   "source": [
    "output = pd.DataFrame({'id': test_df.id, 'price_doc': y_predict})\n",
    "output.to_csv('xgbSub_.csv', index=False)"
   ]
  },
  {
   "cell_type": "code",
   "execution_count": null,
   "metadata": {
    "collapsed": true
   },
   "outputs": [],
   "source": []
  }
 ],
 "metadata": {
  "_change_revision": 0,
  "_is_fork": false,
  "kernelspec": {
   "display_name": "Python 2",
   "language": "python",
   "name": "python2"
  },
  "language_info": {
   "codemirror_mode": {
    "name": "ipython",
    "version": 2
   },
   "file_extension": ".py",
   "mimetype": "text/x-python",
   "name": "python",
   "nbconvert_exporter": "python",
   "pygments_lexer": "ipython2",
   "version": "2.7.13"
  }
 },
 "nbformat": 4,
 "nbformat_minor": 0
}
