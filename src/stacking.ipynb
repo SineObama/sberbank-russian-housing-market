{
 "cells": [
  {
   "cell_type": "code",
   "execution_count": 180,
   "metadata": {
    "collapsed": false
   },
   "outputs": [
    {
     "name": "stdout",
     "output_type": "stream",
     "text": [
      "30396\n",
      "(array([    1,     2,     3, ..., 30393, 30394, 30395]), array([    0,     5,    10, ..., 30385, 30388, 30392]))\n",
      "(array([    0,     1,     2, ..., 30391, 30392, 30395]), array([    9,    16,    18, ..., 30382, 30393, 30394]))\n",
      "(array([    0,     1,     2, ..., 30393, 30394, 30395]), array([    4,     6,     7, ..., 30377, 30384, 30389]))\n",
      "(array([    0,     4,     5, ..., 30393, 30394, 30395]), array([    1,     2,     3, ..., 30378, 30390, 30391]))\n",
      "(array([    0,     1,     2, ..., 30392, 30393, 30394]), array([   15,    20,    26, ..., 30386, 30387, 30395]))\n"
     ]
    }
   ],
   "source": [
    "kf = model_selection.KFold(n_splits=5, shuffle=True, random_state=2016)\n",
    "folds = kf.split(range(len(y)))\n",
    "S_train_i = np.zeros(len(y))\n",
    "print len(y)\n",
    "for j, (train_idx, test_idx) in enumerate(folds):\n",
    "    print (train_idx, test_idx)"
   ]
  },
  {
   "cell_type": "code",
   "execution_count": 155,
   "metadata": {
    "collapsed": true
   },
   "outputs": [],
   "source": [
    "ID = np.array([1,2,3])"
   ]
  },
  {
   "cell_type": "code",
   "execution_count": 154,
   "metadata": {
    "collapsed": true
   },
   "outputs": [],
   "source": [
    "df = pd.DataFrame({'id':[1,2], 'y':[4,5]})"
   ]
  },
  {
   "cell_type": "code",
   "execution_count": 157,
   "metadata": {
    "collapsed": false
   },
   "outputs": [],
   "source": [
    "df2 = pd.DataFrame(ID, columns=['id'])"
   ]
  },
  {
   "cell_type": "code",
   "execution_count": 158,
   "metadata": {
    "collapsed": false
   },
   "outputs": [
    {
     "data": {
      "text/html": [
       "<div>\n",
       "<table border=\"1\" class=\"dataframe\">\n",
       "  <thead>\n",
       "    <tr style=\"text-align: right;\">\n",
       "      <th></th>\n",
       "      <th>id</th>\n",
       "      <th>y</th>\n",
       "    </tr>\n",
       "  </thead>\n",
       "  <tbody>\n",
       "    <tr>\n",
       "      <th>0</th>\n",
       "      <td>1</td>\n",
       "      <td>4.0</td>\n",
       "    </tr>\n",
       "    <tr>\n",
       "      <th>1</th>\n",
       "      <td>2</td>\n",
       "      <td>5.0</td>\n",
       "    </tr>\n",
       "    <tr>\n",
       "      <th>2</th>\n",
       "      <td>3</td>\n",
       "      <td>NaN</td>\n",
       "    </tr>\n",
       "  </tbody>\n",
       "</table>\n",
       "</div>"
      ],
      "text/plain": [
       "   id    y\n",
       "0   1  4.0\n",
       "1   2  5.0\n",
       "2   3  NaN"
      ]
     },
     "execution_count": 158,
     "metadata": {},
     "output_type": "execute_result"
    }
   ],
   "source": [
    "df2.merge(df, on='id', how='left')"
   ]
  },
  {
   "cell_type": "code",
   "execution_count": 1,
   "metadata": {
    "collapsed": true
   },
   "outputs": [],
   "source": [
    "import numpy as np # linear algebra\n",
    "import pandas as pd # data processing, CSV file I/O (e.g. pd.read_csv)\n",
    "import matplotlib.pyplot as plt\n",
    "import seaborn as sns\n",
    "from sklearn import model_selection, preprocessing\n",
    "from sklearn import ensemble   \n",
    "from sklearn import datasets   \n",
    "from sklearn.utils import shuffle   \n",
    "import xgboost as xgb\n",
    "color = sns.color_palette()\n",
    "\n",
    "%matplotlib inline\n",
    "\n",
    "pd.options.mode.chained_assignment = None  # default='warn'\n",
    "pd.set_option('display.max_columns', 500)"
   ]
  },
  {
   "cell_type": "code",
   "execution_count": 85,
   "metadata": {
    "collapsed": false
   },
   "outputs": [],
   "source": [
    "from stacking import *"
   ]
  },
  {
   "cell_type": "code",
   "execution_count": 83,
   "metadata": {
    "collapsed": true
   },
   "outputs": [],
   "source": [
    "import stacking"
   ]
  },
  {
   "cell_type": "code",
   "execution_count": 84,
   "metadata": {
    "collapsed": false
   },
   "outputs": [
    {
     "data": {
      "text/plain": [
       "<module 'stacking' from 'stacking.py'>"
      ]
     },
     "execution_count": 84,
     "metadata": {},
     "output_type": "execute_result"
    }
   ],
   "source": [
    "reload(stacking)"
   ]
  },
  {
   "cell_type": "code",
   "execution_count": 4,
   "metadata": {
    "collapsed": true
   },
   "outputs": [],
   "source": [
    "def rmse(predictions, targets):\n",
    "    return np.sqrt(((predictions - targets) ** 2).mean())"
   ]
  },
  {
   "cell_type": "code",
   "execution_count": 5,
   "metadata": {
    "collapsed": true
   },
   "outputs": [],
   "source": [
    "def logrmse(predictions, targets):\n",
    "    return rmse(np.log(predictions), np.log(targets))"
   ]
  },
  {
   "cell_type": "markdown",
   "metadata": {},
   "source": [
    "# bruno"
   ]
  },
  {
   "cell_type": "code",
   "execution_count": 6,
   "metadata": {
    "collapsed": false
   },
   "outputs": [],
   "source": [
    "import bruno"
   ]
  },
  {
   "cell_type": "code",
   "execution_count": 72,
   "metadata": {
    "collapsed": false
   },
   "outputs": [
    {
     "data": {
      "text/plain": [
       "<module 'bruno' from 'bruno.py'>"
      ]
     },
     "execution_count": 72,
     "metadata": {},
     "output_type": "execute_result"
    }
   ],
   "source": [
    "reload(bruno)"
   ]
  },
  {
   "cell_type": "code",
   "execution_count": 73,
   "metadata": {
    "collapsed": true
   },
   "outputs": [],
   "source": [
    "xgb_params = {\n",
    "    'eta': 0.05,\n",
    "    'max_depth': 5,\n",
    "    'subsample': 0.7,\n",
    "    'colsample_bytree': 0.7,\n",
    "    'objective': 'reg:linear',\n",
    "    'eval_metric': 'rmse',\n",
    "    'silent': 0\n",
    "}\n",
    "num_boost_rounds = 420  # From Bruno's original CV, I think\n",
    "bruno_xgb = XgbModel(xgb_params, 1000)"
   ]
  },
  {
   "cell_type": "markdown",
   "metadata": {},
   "source": [
    "# gunja"
   ]
  },
  {
   "cell_type": "code",
   "execution_count": 9,
   "metadata": {
    "collapsed": false
   },
   "outputs": [],
   "source": [
    "import gunja"
   ]
  },
  {
   "cell_type": "code",
   "execution_count": 10,
   "metadata": {
    "collapsed": false
   },
   "outputs": [
    {
     "data": {
      "text/plain": [
       "<module 'gunja' from 'gunja.pyc'>"
      ]
     },
     "execution_count": 10,
     "metadata": {},
     "output_type": "execute_result"
    }
   ],
   "source": [
    "reload(gunja)"
   ]
  },
  {
   "cell_type": "code",
   "execution_count": 74,
   "metadata": {
    "collapsed": true
   },
   "outputs": [],
   "source": [
    "xgb_params = {\n",
    "    'eta': 0.05,\n",
    "    'max_depth': 6,\n",
    "    'subsample': 0.6,\n",
    "    'colsample_bytree': 1,\n",
    "    'objective': 'reg:linear',\n",
    "    'eval_metric': 'rmse',\n",
    "    'silent': 0\n",
    "}\n",
    "num_boost_rounds = 422\n",
    "gunja_xgb = XgbModel(xgb_params, 1000)"
   ]
  },
  {
   "cell_type": "markdown",
   "metadata": {},
   "source": [
    "# louis"
   ]
  },
  {
   "cell_type": "code",
   "execution_count": 12,
   "metadata": {
    "collapsed": true
   },
   "outputs": [],
   "source": [
    "import louis"
   ]
  },
  {
   "cell_type": "code",
   "execution_count": 13,
   "metadata": {
    "collapsed": false
   },
   "outputs": [
    {
     "data": {
      "text/plain": [
       "<module 'louis' from 'louis.pyc'>"
      ]
     },
     "execution_count": 13,
     "metadata": {},
     "output_type": "execute_result"
    }
   ],
   "source": [
    "reload(louis)"
   ]
  },
  {
   "cell_type": "code",
   "execution_count": 75,
   "metadata": {
    "collapsed": true
   },
   "outputs": [],
   "source": [
    "xgb_params = {\n",
    "    'eta': 0.05,\n",
    "    'max_depth': 5,\n",
    "    'subsample': 0.7,\n",
    "    'colsample_bytree': 0.7,\n",
    "    'objective': 'reg:linear',\n",
    "    'eval_metric': 'rmse',\n",
    "    'silent': 0\n",
    "}\n",
    "num_boost_rounds = 385  # This was the CV output, as earlier version shows\n",
    "louis_xgb = XgbModel(xgb_params, 1000)"
   ]
  },
  {
   "cell_type": "markdown",
   "metadata": {},
   "source": [
    "# stacking"
   ]
  },
  {
   "cell_type": "code",
   "execution_count": 57,
   "metadata": {
    "collapsed": true
   },
   "outputs": [],
   "source": [
    "df_train = pd.read_csv('../input/train.csv')\n",
    "id_train = df_train['id'].values\n",
    "y = df_train['price_doc'].values"
   ]
  },
  {
   "cell_type": "code",
   "execution_count": 86,
   "metadata": {
    "collapsed": true
   },
   "outputs": [],
   "source": [
    "class DataResolver(object):\n",
    "    def __init__(self):\n",
    "        self.__time = -1\n",
    "    \n",
    "    def next(self):\n",
    "        self.__time = self.__time + 1\n",
    "        if (self.__time >= 2):\n",
    "            return louis.resolver()\n",
    "        if (self.__time >= 1):\n",
    "            return gunja.resolver()\n",
    "        return bruno.resolver()"
   ]
  },
  {
   "cell_type": "code",
   "execution_count": 87,
   "metadata": {
    "collapsed": false
   },
   "outputs": [],
   "source": [
    "base_models = []\n",
    "base_models.append(bruno_xgb)\n",
    "base_models.append(gunja_xgb)\n",
    "base_models.append(louis_xgb)\n",
    "stacking = Stacking(5, base_models, DataResolver(), logrmse)"
   ]
  },
  {
   "cell_type": "code",
   "execution_count": 88,
   "metadata": {
    "collapsed": false,
    "scrolled": true
   },
   "outputs": [
    {
     "name": "stdout",
     "output_type": "stream",
     "text": [
      "model 0\n",
      "fold 0\n",
      "[0]\ttrain-rmse:7.94147e+06\tval-rmse:8.05408e+06\n",
      "Multiple eval metrics have been passed: 'val-rmse' will be used for early stopping.\n",
      "\n",
      "Will train until val-rmse hasn't improved in 20 rounds.\n",
      "[20]\ttrain-rmse:3.81419e+06\tval-rmse:4.13389e+06\n",
      "[40]\ttrain-rmse:2.65213e+06\tval-rmse:3.14326e+06\n",
      "[60]\ttrain-rmse:2.31299e+06\tval-rmse:2.90927e+06\n",
      "[80]\ttrain-rmse:2.18849e+06\tval-rmse:2.84577e+06\n",
      "[100]\ttrain-rmse:2.12534e+06\tval-rmse:2.80723e+06\n",
      "[120]\ttrain-rmse:2.07491e+06\tval-rmse:2.78252e+06\n",
      "[140]\ttrain-rmse:2.03595e+06\tval-rmse:2.76697e+06\n",
      "[160]\ttrain-rmse:1.99745e+06\tval-rmse:2.76209e+06\n",
      "[180]\ttrain-rmse:1.96417e+06\tval-rmse:2.75261e+06\n",
      "[200]\ttrain-rmse:1.93173e+06\tval-rmse:2.74295e+06\n",
      "[220]\ttrain-rmse:1.90582e+06\tval-rmse:2.73929e+06\n",
      "[240]\ttrain-rmse:1.88328e+06\tval-rmse:2.73455e+06\n",
      "[260]\ttrain-rmse:1.85779e+06\tval-rmse:2.73073e+06\n",
      "[280]\ttrain-rmse:1.83153e+06\tval-rmse:2.72764e+06\n",
      "[300]\ttrain-rmse:1.80862e+06\tval-rmse:2.72574e+06\n",
      "[320]\ttrain-rmse:1.79103e+06\tval-rmse:2.72475e+06\n",
      "Stopping. Best iteration:\n",
      "[316]\ttrain-rmse:1.79531e+06\tval-rmse:2.72384e+06\n",
      "\n",
      "train: 0.430135976793 val: 0.478565935454\n",
      "fold 1\n",
      "[0]\ttrain-rmse:7.98641e+06\tval-rmse:7.88159e+06\n",
      "Multiple eval metrics have been passed: 'val-rmse' will be used for early stopping.\n",
      "\n",
      "Will train until val-rmse hasn't improved in 20 rounds.\n",
      "[20]\ttrain-rmse:3.88597e+06\tval-rmse:3.88245e+06\n",
      "[40]\ttrain-rmse:2.72279e+06\tval-rmse:2.84955e+06\n",
      "[60]\ttrain-rmse:2.38989e+06\tval-rmse:2.62132e+06\n",
      "[80]\ttrain-rmse:2.254e+06\tval-rmse:2.54493e+06\n",
      "[100]\ttrain-rmse:2.18732e+06\tval-rmse:2.5183e+06\n",
      "[120]\ttrain-rmse:2.12929e+06\tval-rmse:2.49642e+06\n",
      "[140]\ttrain-rmse:2.07818e+06\tval-rmse:2.48832e+06\n",
      "[160]\ttrain-rmse:2.04308e+06\tval-rmse:2.47585e+06\n",
      "[180]\ttrain-rmse:2.00192e+06\tval-rmse:2.46359e+06\n",
      "[200]\ttrain-rmse:1.96707e+06\tval-rmse:2.45478e+06\n",
      "[220]\ttrain-rmse:1.94172e+06\tval-rmse:2.45066e+06\n",
      "[240]\ttrain-rmse:1.91161e+06\tval-rmse:2.44811e+06\n",
      "[260]\ttrain-rmse:1.88193e+06\tval-rmse:2.44229e+06\n",
      "[280]\ttrain-rmse:1.85669e+06\tval-rmse:2.44077e+06\n",
      "[300]\ttrain-rmse:1.82998e+06\tval-rmse:2.43849e+06\n",
      "[320]\ttrain-rmse:1.8088e+06\tval-rmse:2.43734e+06\n",
      "[340]\ttrain-rmse:1.7907e+06\tval-rmse:2.43448e+06\n",
      "[360]\ttrain-rmse:1.76829e+06\tval-rmse:2.43177e+06\n",
      "[380]\ttrain-rmse:1.74968e+06\tval-rmse:2.43e+06\n",
      "[400]\ttrain-rmse:1.732e+06\tval-rmse:2.42842e+06\n",
      "[420]\ttrain-rmse:1.71277e+06\tval-rmse:2.42555e+06\n",
      "[440]\ttrain-rmse:1.69487e+06\tval-rmse:2.42404e+06\n",
      "[460]\ttrain-rmse:1.67658e+06\tval-rmse:2.42172e+06\n",
      "[480]\ttrain-rmse:1.66084e+06\tval-rmse:2.42127e+06\n",
      "Stopping. Best iteration:\n",
      "[477]\ttrain-rmse:1.66388e+06\tval-rmse:2.42054e+06\n",
      "\n",
      "train: 0.416899723814 val: 0.459030013633\n",
      "fold 2\n",
      "[0]\ttrain-rmse:8.01228e+06\tval-rmse:7.77605e+06\n",
      "Multiple eval metrics have been passed: 'val-rmse' will be used for early stopping.\n",
      "\n",
      "Will train until val-rmse hasn't improved in 20 rounds.\n",
      "[20]\ttrain-rmse:3.88656e+06\tval-rmse:3.81387e+06\n",
      "[40]\ttrain-rmse:2.70705e+06\tval-rmse:2.83426e+06\n",
      "[60]\ttrain-rmse:2.36297e+06\tval-rmse:2.63251e+06\n",
      "[80]\ttrain-rmse:2.21854e+06\tval-rmse:2.5832e+06\n",
      "[100]\ttrain-rmse:2.14488e+06\tval-rmse:2.56531e+06\n",
      "[120]\ttrain-rmse:2.09442e+06\tval-rmse:2.54963e+06\n",
      "[140]\ttrain-rmse:2.05472e+06\tval-rmse:2.53984e+06\n",
      "[160]\ttrain-rmse:2.01746e+06\tval-rmse:2.52587e+06\n",
      "[180]\ttrain-rmse:1.98194e+06\tval-rmse:2.51698e+06\n",
      "[200]\ttrain-rmse:1.94351e+06\tval-rmse:2.50649e+06\n",
      "[220]\ttrain-rmse:1.91768e+06\tval-rmse:2.50066e+06\n",
      "[240]\ttrain-rmse:1.88684e+06\tval-rmse:2.49467e+06\n",
      "[260]\ttrain-rmse:1.86284e+06\tval-rmse:2.49101e+06\n",
      "[280]\ttrain-rmse:1.83993e+06\tval-rmse:2.48624e+06\n",
      "[300]\ttrain-rmse:1.82106e+06\tval-rmse:2.48616e+06\n",
      "[320]\ttrain-rmse:1.79715e+06\tval-rmse:2.48238e+06\n",
      "[340]\ttrain-rmse:1.77454e+06\tval-rmse:2.48002e+06\n",
      "[360]\ttrain-rmse:1.75191e+06\tval-rmse:2.47738e+06\n",
      "[380]\ttrain-rmse:1.73149e+06\tval-rmse:2.47371e+06\n",
      "[400]\ttrain-rmse:1.71428e+06\tval-rmse:2.47175e+06\n",
      "[420]\ttrain-rmse:1.69488e+06\tval-rmse:2.46971e+06\n",
      "[440]\ttrain-rmse:1.67749e+06\tval-rmse:2.46719e+06\n",
      "[460]\ttrain-rmse:1.65974e+06\tval-rmse:2.46753e+06\n",
      "Stopping. Best iteration:\n",
      "[451]\ttrain-rmse:1.66748e+06\tval-rmse:2.46636e+06\n",
      "\n",
      "train: 0.414776349301 val: 0.480116612398\n",
      "fold 3\n",
      "[0]\ttrain-rmse:7.91645e+06\tval-rmse:8.16715e+06\n",
      "Multiple eval metrics have been passed: 'val-rmse' will be used for early stopping.\n",
      "\n",
      "Will train until val-rmse hasn't improved in 20 rounds.\n",
      "[20]\ttrain-rmse:3.83674e+06\tval-rmse:4.14124e+06\n",
      "[40]\ttrain-rmse:2.70299e+06\tval-rmse:3.09982e+06\n",
      "[60]\ttrain-rmse:2.3693e+06\tval-rmse:2.82156e+06\n",
      "[80]\ttrain-rmse:2.23609e+06\tval-rmse:2.7274e+06\n",
      "[100]\ttrain-rmse:2.15862e+06\tval-rmse:2.68927e+06\n",
      "[120]\ttrain-rmse:2.10811e+06\tval-rmse:2.66785e+06\n",
      "[140]\ttrain-rmse:2.06611e+06\tval-rmse:2.65719e+06\n",
      "[160]\ttrain-rmse:2.02831e+06\tval-rmse:2.64669e+06\n",
      "[180]\ttrain-rmse:1.99163e+06\tval-rmse:2.63678e+06\n",
      "[200]\ttrain-rmse:1.96473e+06\tval-rmse:2.62832e+06\n",
      "[220]\ttrain-rmse:1.93652e+06\tval-rmse:2.62153e+06\n",
      "[240]\ttrain-rmse:1.91108e+06\tval-rmse:2.61898e+06\n",
      "[260]\ttrain-rmse:1.88675e+06\tval-rmse:2.61189e+06\n",
      "[280]\ttrain-rmse:1.86444e+06\tval-rmse:2.60773e+06\n",
      "[300]\ttrain-rmse:1.8457e+06\tval-rmse:2.60628e+06\n",
      "[320]\ttrain-rmse:1.82441e+06\tval-rmse:2.60231e+06\n",
      "[340]\ttrain-rmse:1.80491e+06\tval-rmse:2.59939e+06\n",
      "[360]\ttrain-rmse:1.78811e+06\tval-rmse:2.59592e+06\n",
      "[380]\ttrain-rmse:1.76499e+06\tval-rmse:2.59541e+06\n",
      "[400]\ttrain-rmse:1.74714e+06\tval-rmse:2.5914e+06\n",
      "[420]\ttrain-rmse:1.72906e+06\tval-rmse:2.5896e+06\n",
      "[440]\ttrain-rmse:1.71129e+06\tval-rmse:2.58798e+06\n",
      "[460]\ttrain-rmse:1.6949e+06\tval-rmse:2.5855e+06\n",
      "[480]\ttrain-rmse:1.67621e+06\tval-rmse:2.58196e+06\n",
      "[500]\ttrain-rmse:1.65761e+06\tval-rmse:2.57877e+06\n",
      "[520]\ttrain-rmse:1.64107e+06\tval-rmse:2.57799e+06\n",
      "[540]\ttrain-rmse:1.62507e+06\tval-rmse:2.57525e+06\n",
      "[560]\ttrain-rmse:1.61069e+06\tval-rmse:2.57791e+06\n",
      "Stopping. Best iteration:\n",
      "[541]\ttrain-rmse:1.62442e+06\tval-rmse:2.57517e+06\n",
      "\n",
      "train: 0.413702807488 val: 0.449798429651\n",
      "fold 4\n",
      "[0]\ttrain-rmse:7.96933e+06\tval-rmse:7.9524e+06\n",
      "Multiple eval metrics have been passed: 'val-rmse' will be used for early stopping.\n",
      "\n",
      "Will train until val-rmse hasn't improved in 20 rounds.\n",
      "[20]\ttrain-rmse:3.85104e+06\tval-rmse:3.95615e+06\n",
      "[40]\ttrain-rmse:2.69343e+06\tval-rmse:2.96812e+06\n",
      "[60]\ttrain-rmse:2.34131e+06\tval-rmse:2.74157e+06\n",
      "[80]\ttrain-rmse:2.21039e+06\tval-rmse:2.67491e+06\n",
      "[100]\ttrain-rmse:2.1389e+06\tval-rmse:2.64469e+06\n",
      "[120]\ttrain-rmse:2.0938e+06\tval-rmse:2.62681e+06\n",
      "[140]\ttrain-rmse:2.05016e+06\tval-rmse:2.60963e+06\n",
      "[160]\ttrain-rmse:2.01337e+06\tval-rmse:2.5984e+06\n",
      "[180]\ttrain-rmse:1.98096e+06\tval-rmse:2.58739e+06\n",
      "[200]\ttrain-rmse:1.95101e+06\tval-rmse:2.58351e+06\n",
      "[220]\ttrain-rmse:1.92469e+06\tval-rmse:2.57784e+06\n",
      "[240]\ttrain-rmse:1.90066e+06\tval-rmse:2.5707e+06\n",
      "[260]\ttrain-rmse:1.87689e+06\tval-rmse:2.56874e+06\n",
      "[280]\ttrain-rmse:1.84922e+06\tval-rmse:2.56742e+06\n",
      "[300]\ttrain-rmse:1.82811e+06\tval-rmse:2.56488e+06\n",
      "[320]\ttrain-rmse:1.80761e+06\tval-rmse:2.56284e+06\n",
      "[340]\ttrain-rmse:1.78284e+06\tval-rmse:2.56079e+06\n",
      "[360]\ttrain-rmse:1.7617e+06\tval-rmse:2.5551e+06\n",
      "[380]\ttrain-rmse:1.74278e+06\tval-rmse:2.55196e+06\n",
      "[400]\ttrain-rmse:1.72756e+06\tval-rmse:2.5506e+06\n",
      "Stopping. Best iteration:\n",
      "[391]\ttrain-rmse:1.73328e+06\tval-rmse:2.5499e+06\n",
      "\n",
      "train: 0.42381967485 val: 0.471421569563\n",
      "model 1\n",
      "fold 0\n",
      "[0]\ttrain-rmse:8.41377e+06\tval-rmse:8.15124e+06\n",
      "Multiple eval metrics have been passed: 'val-rmse' will be used for early stopping.\n",
      "\n",
      "Will train until val-rmse hasn't improved in 20 rounds.\n",
      "[20]\ttrain-rmse:3.92527e+06\tval-rmse:3.86745e+06\n",
      "[40]\ttrain-rmse:2.60269e+06\tval-rmse:2.79106e+06\n",
      "[60]\ttrain-rmse:2.23814e+06\tval-rmse:2.58037e+06\n",
      "[80]\ttrain-rmse:2.11083e+06\tval-rmse:2.53312e+06\n",
      "[100]\ttrain-rmse:2.03813e+06\tval-rmse:2.52144e+06\n",
      "[120]\ttrain-rmse:1.98061e+06\tval-rmse:2.50651e+06\n",
      "[140]\ttrain-rmse:1.92638e+06\tval-rmse:2.4982e+06\n",
      "[160]\ttrain-rmse:1.88217e+06\tval-rmse:2.49111e+06\n",
      "[180]\ttrain-rmse:1.84727e+06\tval-rmse:2.48598e+06\n",
      "[200]\ttrain-rmse:1.8155e+06\tval-rmse:2.4786e+06\n",
      "[220]\ttrain-rmse:1.78338e+06\tval-rmse:2.47728e+06\n",
      "[240]\ttrain-rmse:1.75349e+06\tval-rmse:2.47608e+06\n",
      "Stopping. Best iteration:\n",
      "[225]\ttrain-rmse:1.77391e+06\tval-rmse:2.47472e+06\n",
      "\n",
      "train: 0.413046960193 val: 0.454392773508\n",
      "fold 1\n",
      "[0]\ttrain-rmse:8.34681e+06\tval-rmse:8.40993e+06\n",
      "Multiple eval metrics have been passed: 'val-rmse' will be used for early stopping.\n",
      "\n",
      "Will train until val-rmse hasn't improved in 20 rounds.\n",
      "[20]\ttrain-rmse:3.86881e+06\tval-rmse:4.11587e+06\n",
      "[40]\ttrain-rmse:2.57509e+06\tval-rmse:3.01337e+06\n",
      "[60]\ttrain-rmse:2.21846e+06\tval-rmse:2.77485e+06\n",
      "[80]\ttrain-rmse:2.09541e+06\tval-rmse:2.71772e+06\n",
      "[100]\ttrain-rmse:2.02956e+06\tval-rmse:2.6955e+06\n",
      "[120]\ttrain-rmse:1.98269e+06\tval-rmse:2.67975e+06\n",
      "[140]\ttrain-rmse:1.92996e+06\tval-rmse:2.67265e+06\n",
      "[160]\ttrain-rmse:1.88502e+06\tval-rmse:2.66258e+06\n",
      "[180]\ttrain-rmse:1.84945e+06\tval-rmse:2.65211e+06\n",
      "[200]\ttrain-rmse:1.82028e+06\tval-rmse:2.6456e+06\n",
      "[220]\ttrain-rmse:1.78778e+06\tval-rmse:2.6403e+06\n",
      "[240]\ttrain-rmse:1.75731e+06\tval-rmse:2.63201e+06\n",
      "[260]\ttrain-rmse:1.72745e+06\tval-rmse:2.62636e+06\n",
      "[280]\ttrain-rmse:1.69765e+06\tval-rmse:2.62398e+06\n",
      "[300]\ttrain-rmse:1.66234e+06\tval-rmse:2.61846e+06\n",
      "[320]\ttrain-rmse:1.63362e+06\tval-rmse:2.61409e+06\n",
      "[340]\ttrain-rmse:1.60606e+06\tval-rmse:2.61023e+06\n",
      "[360]\ttrain-rmse:1.5841e+06\tval-rmse:2.60816e+06\n",
      "[380]\ttrain-rmse:1.56249e+06\tval-rmse:2.60869e+06\n",
      "Stopping. Best iteration:\n",
      "[366]\ttrain-rmse:1.57587e+06\tval-rmse:2.60733e+06\n",
      "\n",
      "train: 0.390202427165 val: 0.455424986661\n",
      "fold 2\n",
      "[0]\ttrain-rmse:8.33349e+06\tval-rmse:8.4736e+06\n",
      "Multiple eval metrics have been passed: 'val-rmse' will be used for early stopping.\n",
      "\n",
      "Will train until val-rmse hasn't improved in 20 rounds.\n",
      "[20]\ttrain-rmse:3.86088e+06\tval-rmse:4.16208e+06\n",
      "[40]\ttrain-rmse:2.56407e+06\tval-rmse:3.0879e+06\n",
      "[60]\ttrain-rmse:2.21141e+06\tval-rmse:2.84267e+06\n",
      "[80]\ttrain-rmse:2.08603e+06\tval-rmse:2.77538e+06\n",
      "[100]\ttrain-rmse:2.00941e+06\tval-rmse:2.74483e+06\n",
      "[120]\ttrain-rmse:1.94868e+06\tval-rmse:2.72205e+06\n",
      "[140]\ttrain-rmse:1.90257e+06\tval-rmse:2.70745e+06\n",
      "[160]\ttrain-rmse:1.86379e+06\tval-rmse:2.70032e+06\n",
      "[180]\ttrain-rmse:1.82803e+06\tval-rmse:2.68921e+06\n",
      "[200]\ttrain-rmse:1.79538e+06\tval-rmse:2.68845e+06\n",
      "[220]\ttrain-rmse:1.76536e+06\tval-rmse:2.68507e+06\n",
      "[240]\ttrain-rmse:1.73376e+06\tval-rmse:2.68117e+06\n",
      "[260]\ttrain-rmse:1.69993e+06\tval-rmse:2.67273e+06\n",
      "[280]\ttrain-rmse:1.67127e+06\tval-rmse:2.6702e+06\n",
      "Stopping. Best iteration:\n",
      "[276]\ttrain-rmse:1.67645e+06\tval-rmse:2.66903e+06\n",
      "\n",
      "train: 0.398154743009 val: 0.468682539789\n",
      "fold 3\n",
      "[0]\ttrain-rmse:8.33353e+06\tval-rmse:8.47964e+06\n",
      "Multiple eval metrics have been passed: 'val-rmse' will be used for early stopping.\n",
      "\n",
      "Will train until val-rmse hasn't improved in 20 rounds.\n",
      "[20]\ttrain-rmse:3.87767e+06\tval-rmse:4.21504e+06\n",
      "[40]\ttrain-rmse:2.57512e+06\tval-rmse:3.10355e+06\n",
      "[60]\ttrain-rmse:2.22741e+06\tval-rmse:2.84079e+06\n",
      "[80]\ttrain-rmse:2.10642e+06\tval-rmse:2.75068e+06\n",
      "[100]\ttrain-rmse:2.05152e+06\tval-rmse:2.72023e+06\n",
      "[120]\ttrain-rmse:2.00349e+06\tval-rmse:2.69668e+06\n",
      "[140]\ttrain-rmse:1.96126e+06\tval-rmse:2.67946e+06\n",
      "[160]\ttrain-rmse:1.91795e+06\tval-rmse:2.66482e+06\n",
      "[180]\ttrain-rmse:1.87958e+06\tval-rmse:2.65467e+06\n",
      "[200]\ttrain-rmse:1.8458e+06\tval-rmse:2.64434e+06\n",
      "[220]\ttrain-rmse:1.81246e+06\tval-rmse:2.63825e+06\n",
      "[240]\ttrain-rmse:1.77651e+06\tval-rmse:2.63043e+06\n",
      "[260]\ttrain-rmse:1.75157e+06\tval-rmse:2.62519e+06\n",
      "[280]\ttrain-rmse:1.7237e+06\tval-rmse:2.62069e+06\n",
      "[300]\ttrain-rmse:1.69141e+06\tval-rmse:2.61882e+06\n",
      "[320]\ttrain-rmse:1.65761e+06\tval-rmse:2.61524e+06\n",
      "[340]\ttrain-rmse:1.63153e+06\tval-rmse:2.61466e+06\n",
      "[360]\ttrain-rmse:1.60701e+06\tval-rmse:2.61607e+06\n",
      "Stopping. Best iteration:\n",
      "[346]\ttrain-rmse:1.62409e+06\tval-rmse:2.61371e+06\n",
      "\n",
      "train: 0.394764792036 val: 0.453149496383\n",
      "fold 4\n",
      "[0]\ttrain-rmse:8.37717e+06\tval-rmse:8.32408e+06\n",
      "Multiple eval metrics have been passed: 'val-rmse' will be used for early stopping.\n",
      "\n",
      "Will train until val-rmse hasn't improved in 20 rounds.\n",
      "[20]\ttrain-rmse:3.88745e+06\tval-rmse:3.97749e+06\n",
      "[40]\ttrain-rmse:2.58328e+06\tval-rmse:2.86784e+06\n",
      "[60]\ttrain-rmse:2.23102e+06\tval-rmse:2.64646e+06\n",
      "[80]\ttrain-rmse:2.10159e+06\tval-rmse:2.58983e+06\n",
      "[100]\ttrain-rmse:2.02569e+06\tval-rmse:2.55652e+06\n",
      "[120]\ttrain-rmse:1.97431e+06\tval-rmse:2.54216e+06\n",
      "[140]\ttrain-rmse:1.92892e+06\tval-rmse:2.53316e+06\n",
      "[160]\ttrain-rmse:1.88891e+06\tval-rmse:2.52412e+06\n",
      "[180]\ttrain-rmse:1.84238e+06\tval-rmse:2.5143e+06\n",
      "[200]\ttrain-rmse:1.81233e+06\tval-rmse:2.50513e+06\n",
      "[220]\ttrain-rmse:1.77523e+06\tval-rmse:2.50069e+06\n",
      "[240]\ttrain-rmse:1.74134e+06\tval-rmse:2.50133e+06\n",
      "Stopping. Best iteration:\n",
      "[222]\ttrain-rmse:1.77328e+06\tval-rmse:2.50034e+06\n",
      "\n",
      "train: 0.413439965089 val: 0.45569620318\n",
      "model 2\n",
      "fold 0\n",
      "[0]\ttrain-rmse:7.9976e+06\tval-rmse:7.81251e+06\n",
      "Multiple eval metrics have been passed: 'val-rmse' will be used for early stopping.\n",
      "\n",
      "Will train until val-rmse hasn't improved in 20 rounds.\n",
      "[20]\ttrain-rmse:3.8434e+06\tval-rmse:3.89675e+06\n",
      "[40]\ttrain-rmse:2.65479e+06\tval-rmse:2.97583e+06\n",
      "[60]\ttrain-rmse:2.32901e+06\tval-rmse:2.79635e+06\n",
      "[80]\ttrain-rmse:2.20065e+06\tval-rmse:2.75369e+06\n",
      "[100]\ttrain-rmse:2.13136e+06\tval-rmse:2.73428e+06\n",
      "[120]\ttrain-rmse:2.08971e+06\tval-rmse:2.72605e+06\n",
      "[140]\ttrain-rmse:2.04832e+06\tval-rmse:2.71691e+06\n",
      "[160]\ttrain-rmse:2.01293e+06\tval-rmse:2.70732e+06\n",
      "[180]\ttrain-rmse:1.98299e+06\tval-rmse:2.7018e+06\n",
      "[200]\ttrain-rmse:1.95637e+06\tval-rmse:2.6991e+06\n",
      "[220]\ttrain-rmse:1.93303e+06\tval-rmse:2.69451e+06\n",
      "[240]\ttrain-rmse:1.90782e+06\tval-rmse:2.68809e+06\n",
      "[260]\ttrain-rmse:1.8859e+06\tval-rmse:2.68721e+06\n",
      "[280]\ttrain-rmse:1.85954e+06\tval-rmse:2.68397e+06\n",
      "[300]\ttrain-rmse:1.8373e+06\tval-rmse:2.68152e+06\n",
      "[320]\ttrain-rmse:1.81967e+06\tval-rmse:2.68013e+06\n",
      "[340]\ttrain-rmse:1.80222e+06\tval-rmse:2.67803e+06\n",
      "[360]\ttrain-rmse:1.7823e+06\tval-rmse:2.67569e+06\n",
      "[380]\ttrain-rmse:1.76159e+06\tval-rmse:2.67274e+06\n",
      "Stopping. Best iteration:\n",
      "[373]\ttrain-rmse:1.76816e+06\tval-rmse:2.67205e+06\n",
      "\n",
      "train: 0.430549950725 val: 0.472628135543\n",
      "fold 1\n",
      "[0]\ttrain-rmse:7.94846e+06\tval-rmse:7.97533e+06\n",
      "Multiple eval metrics have been passed: 'val-rmse' will be used for early stopping.\n",
      "\n",
      "Will train until val-rmse hasn't improved in 20 rounds.\n",
      "[20]\ttrain-rmse:3.84907e+06\tval-rmse:3.95899e+06\n",
      "[40]\ttrain-rmse:2.70497e+06\tval-rmse:2.86885e+06\n",
      "[60]\ttrain-rmse:2.37861e+06\tval-rmse:2.59789e+06\n",
      "[80]\ttrain-rmse:2.24987e+06\tval-rmse:2.51358e+06\n",
      "[100]\ttrain-rmse:2.17129e+06\tval-rmse:2.47401e+06\n",
      "[120]\ttrain-rmse:2.1183e+06\tval-rmse:2.45413e+06\n",
      "[140]\ttrain-rmse:2.07573e+06\tval-rmse:2.43317e+06\n",
      "[160]\ttrain-rmse:2.043e+06\tval-rmse:2.42246e+06\n",
      "[180]\ttrain-rmse:2.01457e+06\tval-rmse:2.41041e+06\n",
      "[200]\ttrain-rmse:1.98914e+06\tval-rmse:2.40251e+06\n",
      "[220]\ttrain-rmse:1.95857e+06\tval-rmse:2.3963e+06\n",
      "[240]\ttrain-rmse:1.93203e+06\tval-rmse:2.39337e+06\n",
      "[260]\ttrain-rmse:1.90575e+06\tval-rmse:2.38871e+06\n",
      "[280]\ttrain-rmse:1.88138e+06\tval-rmse:2.38062e+06\n",
      "[300]\ttrain-rmse:1.86058e+06\tval-rmse:2.37829e+06\n",
      "[320]\ttrain-rmse:1.83733e+06\tval-rmse:2.37028e+06\n",
      "[340]\ttrain-rmse:1.81831e+06\tval-rmse:2.36701e+06\n",
      "[360]\ttrain-rmse:1.80342e+06\tval-rmse:2.36325e+06\n",
      "[380]\ttrain-rmse:1.78697e+06\tval-rmse:2.36072e+06\n",
      "[400]\ttrain-rmse:1.77045e+06\tval-rmse:2.35957e+06\n",
      "[420]\ttrain-rmse:1.75582e+06\tval-rmse:2.35972e+06\n",
      "Stopping. Best iteration:\n",
      "[406]\ttrain-rmse:1.76545e+06\tval-rmse:2.35851e+06\n",
      "\n",
      "train:"
     ]
    },
    {
     "name": "stderr",
     "output_type": "stream",
     "text": [
      "d:\\Anaconda2\\lib\\site-packages\\ipykernel\\__main__.py:2: RuntimeWarning: invalid value encountered in log\n",
      "  from ipykernel import kernelapp as app\n"
     ]
    },
    {
     "name": "stdout",
     "output_type": "stream",
     "text": [
      " nan val: 0.452754585736\n",
      "fold 2\n",
      "[0]\ttrain-rmse:7.96103e+06\tval-rmse:7.91597e+06\n",
      "Multiple eval metrics have been passed: 'val-rmse' will be used for early stopping.\n",
      "\n",
      "Will train until val-rmse hasn't improved in 20 rounds.\n",
      "[20]\ttrain-rmse:3.8464e+06\tval-rmse:3.93034e+06\n",
      "[40]\ttrain-rmse:2.67898e+06\tval-rmse:2.94584e+06\n",
      "[60]\ttrain-rmse:2.35306e+06\tval-rmse:2.73964e+06\n",
      "[80]\ttrain-rmse:2.23429e+06\tval-rmse:2.67918e+06\n",
      "[100]\ttrain-rmse:2.16653e+06\tval-rmse:2.65197e+06\n",
      "[120]\ttrain-rmse:2.10614e+06\tval-rmse:2.63054e+06\n",
      "[140]\ttrain-rmse:2.06556e+06\tval-rmse:2.62585e+06\n",
      "[160]\ttrain-rmse:2.02923e+06\tval-rmse:2.61531e+06\n",
      "[180]\ttrain-rmse:1.99709e+06\tval-rmse:2.6067e+06\n",
      "[200]\ttrain-rmse:1.9622e+06\tval-rmse:2.60232e+06\n",
      "[220]\ttrain-rmse:1.93737e+06\tval-rmse:2.59722e+06\n",
      "[240]\ttrain-rmse:1.91047e+06\tval-rmse:2.59282e+06\n",
      "[260]\ttrain-rmse:1.88963e+06\tval-rmse:2.59338e+06\n",
      "[280]\ttrain-rmse:1.86432e+06\tval-rmse:2.59133e+06\n",
      "[300]\ttrain-rmse:1.84158e+06\tval-rmse:2.58971e+06\n",
      "[320]\ttrain-rmse:1.8208e+06\tval-rmse:2.58678e+06\n",
      "[340]\ttrain-rmse:1.80245e+06\tval-rmse:2.58243e+06\n",
      "[360]\ttrain-rmse:1.78229e+06\tval-rmse:2.58157e+06\n",
      "Stopping. Best iteration:\n",
      "[341]\ttrain-rmse:1.80121e+06\tval-rmse:2.58152e+06\n",
      "\n",
      "train: 0.430200187696 val: 0.483884942676\n",
      "fold 3\n",
      "[0]\ttrain-rmse:7.91716e+06\tval-rmse:8.09864e+06\n",
      "Multiple eval metrics have been passed: 'val-rmse' will be used for early stopping.\n",
      "\n",
      "Will train until val-rmse hasn't improved in 20 rounds.\n",
      "[20]\ttrain-rmse:3.82766e+06\tval-rmse:3.99284e+06\n",
      "[40]\ttrain-rmse:2.6818e+06\tval-rmse:2.93796e+06\n",
      "[60]\ttrain-rmse:2.35271e+06\tval-rmse:2.68282e+06\n",
      "[80]\ttrain-rmse:2.23244e+06\tval-rmse:2.61777e+06\n",
      "[100]\ttrain-rmse:2.16571e+06\tval-rmse:2.5859e+06\n",
      "[120]\ttrain-rmse:2.11476e+06\tval-rmse:2.56531e+06\n",
      "[140]\ttrain-rmse:2.07406e+06\tval-rmse:2.54975e+06\n",
      "[160]\ttrain-rmse:2.03695e+06\tval-rmse:2.53982e+06\n",
      "[180]\ttrain-rmse:2.00074e+06\tval-rmse:2.52782e+06\n",
      "[200]\ttrain-rmse:1.96987e+06\tval-rmse:2.51495e+06\n",
      "[220]\ttrain-rmse:1.94371e+06\tval-rmse:2.5052e+06\n",
      "[240]\ttrain-rmse:1.92219e+06\tval-rmse:2.4979e+06\n",
      "[260]\ttrain-rmse:1.89485e+06\tval-rmse:2.48793e+06\n",
      "[280]\ttrain-rmse:1.87521e+06\tval-rmse:2.48475e+06\n",
      "[300]\ttrain-rmse:1.85506e+06\tval-rmse:2.47984e+06\n",
      "[320]\ttrain-rmse:1.8359e+06\tval-rmse:2.47548e+06\n",
      "[340]\ttrain-rmse:1.82126e+06\tval-rmse:2.47308e+06\n",
      "[360]\ttrain-rmse:1.80352e+06\tval-rmse:2.46877e+06\n",
      "Stopping. Best iteration:\n",
      "[359]\ttrain-rmse:1.80386e+06\tval-rmse:2.46804e+06\n",
      "\n",
      "train: 0.43557073952 val: 0.458748054418\n",
      "fold 4\n",
      "[0]\ttrain-rmse:7.94449e+06\tval-rmse:7.98792e+06\n",
      "Multiple eval metrics have been passed: 'val-rmse' will be used for early stopping.\n",
      "\n",
      "Will train until val-rmse hasn't improved in 20 rounds.\n",
      "[20]\ttrain-rmse:3.82077e+06\tval-rmse:4.03427e+06\n",
      "[40]\ttrain-rmse:2.65055e+06\tval-rmse:3.0481e+06\n",
      "[60]\ttrain-rmse:2.32536e+06\tval-rmse:2.82903e+06\n",
      "[80]\ttrain-rmse:2.2068e+06\tval-rmse:2.75142e+06\n",
      "[100]\ttrain-rmse:2.13696e+06\tval-rmse:2.71847e+06\n",
      "[120]\ttrain-rmse:2.08109e+06\tval-rmse:2.69803e+06\n",
      "[140]\ttrain-rmse:2.04133e+06\tval-rmse:2.69525e+06\n",
      "[160]\ttrain-rmse:2.00824e+06\tval-rmse:2.68564e+06\n",
      "[180]\ttrain-rmse:1.97869e+06\tval-rmse:2.68218e+06\n",
      "[200]\ttrain-rmse:1.94421e+06\tval-rmse:2.67932e+06\n",
      "[220]\ttrain-rmse:1.91529e+06\tval-rmse:2.67688e+06\n",
      "[240]\ttrain-rmse:1.88821e+06\tval-rmse:2.67242e+06\n",
      "[260]\ttrain-rmse:1.86715e+06\tval-rmse:2.66871e+06\n",
      "[280]\ttrain-rmse:1.84607e+06\tval-rmse:2.67049e+06\n",
      "Stopping. Best iteration:\n",
      "[265]\ttrain-rmse:1.86272e+06\tval-rmse:2.66773e+06\n",
      "\n",
      "train: 0.438222800387 val: 0.477283261011\n"
     ]
    }
   ],
   "source": [
    "s_train, s_test = stacking.fit(id_train, 7662)#38132 30471"
   ]
  },
  {
   "cell_type": "code",
   "execution_count": 89,
   "metadata": {
    "collapsed": false
   },
   "outputs": [],
   "source": [
    "pd.DataFrame(s_train).to_csv('../stacking/5_3/5_3_train.csv', index=False)"
   ]
  },
  {
   "cell_type": "code",
   "execution_count": 90,
   "metadata": {
    "collapsed": true
   },
   "outputs": [],
   "source": [
    "pd.DataFrame(s_test).to_csv('../stacking/5_3/5_3_test.csv', index=False)"
   ]
  },
  {
   "cell_type": "code",
   "execution_count": 49,
   "metadata": {
    "collapsed": false
   },
   "outputs": [
    {
     "data": {
      "text/plain": [
       "array([[  3804734.  ,   3631560.25,   5081369.  ],\n",
       "       [  5614989.5 ,   4439626.5 ,   5466862.  ],\n",
       "       [  4921093.  ,   4305226.5 ,   4645399.5 ],\n",
       "       ..., \n",
       "       [  5405239.  ,   6122101.  ,   5312807.  ],\n",
       "       [ 11368580.  ,  12399014.  ,  10650168.  ],\n",
       "       [  6148419.  ,   6521823.5 ,   6236720.5 ]])"
      ]
     },
     "execution_count": 49,
     "metadata": {},
     "output_type": "execute_result"
    }
   ],
   "source": [
    "s_train"
   ]
  },
  {
   "cell_type": "code",
   "execution_count": 95,
   "metadata": {
    "collapsed": false
   },
   "outputs": [
    {
     "data": {
      "text/plain": [
       "(25000L, 3L)"
      ]
     },
     "execution_count": 95,
     "metadata": {},
     "output_type": "execute_result"
    }
   ],
   "source": [
    "s_train[:25000].shape"
   ]
  },
  {
   "cell_type": "code",
   "execution_count": 92,
   "metadata": {
    "collapsed": false
   },
   "outputs": [
    {
     "data": {
      "text/plain": [
       "array([[ 5446768.  ,  5541906.8 ,  5346134.6 ],\n",
       "       [ 8194974.4 ,  8371003.4 ,  8025939.1 ],\n",
       "       [ 5307726.5 ,  5458503.8 ,  5341008.3 ],\n",
       "       ..., \n",
       "       [ 5575524.1 ,  3963156.15,  4804156.1 ],\n",
       "       [ 5085413.6 ,  4385851.35,  5267258.3 ],\n",
       "       [ 9568489.9 ,  8166173.1 ,  8489979.6 ]])"
      ]
     },
     "execution_count": 92,
     "metadata": {},
     "output_type": "execute_result"
    }
   ],
   "source": [
    "s_test"
   ]
  },
  {
   "cell_type": "code",
   "execution_count": 104,
   "metadata": {
    "collapsed": false
   },
   "outputs": [
    {
     "name": "stdout",
     "output_type": "stream",
     "text": [
      "[0]\ttrain-rmse:8.19032e+06\n",
      "[1]\ttrain-rmse:7.82544e+06\n",
      "[2]\ttrain-rmse:7.47856e+06\n",
      "[3]\ttrain-rmse:7.15087e+06\n",
      "[4]\ttrain-rmse:6.84183e+06\n",
      "[5]\ttrain-rmse:6.54782e+06\n",
      "[6]\ttrain-rmse:6.27054e+06\n",
      "[7]\ttrain-rmse:6.01081e+06\n",
      "[8]\ttrain-rmse:5.76534e+06\n",
      "[9]\ttrain-rmse:5.53002e+06\n",
      "[10]\ttrain-rmse:5.31225e+06\n",
      "[11]\ttrain-rmse:5.10832e+06\n",
      "[12]\ttrain-rmse:4.91379e+06\n",
      "[13]\ttrain-rmse:4.72867e+06\n",
      "[14]\ttrain-rmse:4.55757e+06\n",
      "[15]\ttrain-rmse:4.3961e+06\n",
      "[16]\ttrain-rmse:4.24577e+06\n",
      "[17]\ttrain-rmse:4.10588e+06\n",
      "[18]\ttrain-rmse:3.97484e+06\n",
      "[19]\ttrain-rmse:3.85007e+06\n",
      "[20]\ttrain-rmse:3.73837e+06\n",
      "[21]\ttrain-rmse:3.62969e+06\n",
      "[22]\ttrain-rmse:3.52903e+06\n",
      "[23]\ttrain-rmse:3.43398e+06\n",
      "[24]\ttrain-rmse:3.34586e+06\n",
      "[25]\ttrain-rmse:3.26544e+06\n",
      "[26]\ttrain-rmse:3.19046e+06\n",
      "[27]\ttrain-rmse:3.1186e+06\n",
      "[28]\ttrain-rmse:3.05397e+06\n",
      "[29]\ttrain-rmse:2.99224e+06\n",
      "[30]\ttrain-rmse:2.93796e+06\n",
      "[31]\ttrain-rmse:2.88646e+06\n",
      "[32]\ttrain-rmse:2.83955e+06\n",
      "[33]\ttrain-rmse:2.79572e+06\n",
      "[34]\ttrain-rmse:2.7551e+06\n",
      "[35]\ttrain-rmse:2.7159e+06\n",
      "[36]\ttrain-rmse:2.68279e+06\n",
      "[37]\ttrain-rmse:2.65091e+06\n",
      "[38]\ttrain-rmse:2.62317e+06\n",
      "[39]\ttrain-rmse:2.59727e+06\n",
      "[40]\ttrain-rmse:2.57293e+06\n",
      "[41]\ttrain-rmse:2.54891e+06\n",
      "[42]\ttrain-rmse:2.52621e+06\n",
      "[43]\ttrain-rmse:2.50621e+06\n",
      "[44]\ttrain-rmse:2.48762e+06\n",
      "[45]\ttrain-rmse:2.47049e+06\n",
      "[46]\ttrain-rmse:2.45251e+06\n",
      "[47]\ttrain-rmse:2.43877e+06\n",
      "[48]\ttrain-rmse:2.4249e+06\n",
      "[49]\ttrain-rmse:2.4125e+06\n",
      "[50]\ttrain-rmse:2.40251e+06\n",
      "[51]\ttrain-rmse:2.39206e+06\n",
      "[52]\ttrain-rmse:2.3822e+06\n",
      "[53]\ttrain-rmse:2.37247e+06\n",
      "[54]\ttrain-rmse:2.36404e+06\n",
      "[55]\ttrain-rmse:2.35568e+06\n",
      "[56]\ttrain-rmse:2.34688e+06\n",
      "[57]\ttrain-rmse:2.33902e+06\n",
      "[58]\ttrain-rmse:2.33162e+06\n",
      "[59]\ttrain-rmse:2.32458e+06\n",
      "[60]\ttrain-rmse:2.31794e+06\n",
      "[61]\ttrain-rmse:2.31249e+06\n",
      "[62]\ttrain-rmse:2.30744e+06\n",
      "[63]\ttrain-rmse:2.30339e+06\n",
      "[64]\ttrain-rmse:2.29784e+06\n",
      "[65]\ttrain-rmse:2.2946e+06\n",
      "[66]\ttrain-rmse:2.2878e+06\n",
      "[67]\ttrain-rmse:2.28392e+06\n",
      "[68]\ttrain-rmse:2.28114e+06\n",
      "[69]\ttrain-rmse:2.27819e+06\n",
      "[70]\ttrain-rmse:2.27428e+06\n",
      "[71]\ttrain-rmse:2.26926e+06\n",
      "[72]\ttrain-rmse:2.2644e+06\n",
      "[73]\ttrain-rmse:2.26091e+06\n",
      "[74]\ttrain-rmse:2.25901e+06\n",
      "[75]\ttrain-rmse:2.25626e+06\n",
      "[76]\ttrain-rmse:2.25354e+06\n",
      "[77]\ttrain-rmse:2.2513e+06\n",
      "[78]\ttrain-rmse:2.24917e+06\n",
      "[79]\ttrain-rmse:2.24714e+06\n",
      "[80]\ttrain-rmse:2.24516e+06\n",
      "[81]\ttrain-rmse:2.24271e+06\n",
      "[82]\ttrain-rmse:2.24105e+06\n",
      "[83]\ttrain-rmse:2.2381e+06\n",
      "[84]\ttrain-rmse:2.23617e+06\n",
      "[85]\ttrain-rmse:2.23427e+06\n",
      "[86]\ttrain-rmse:2.23266e+06\n",
      "[87]\ttrain-rmse:2.23019e+06\n",
      "[88]\ttrain-rmse:2.22879e+06\n",
      "[89]\ttrain-rmse:2.22708e+06\n",
      "[90]\ttrain-rmse:2.22604e+06\n",
      "[91]\ttrain-rmse:2.22478e+06\n",
      "[92]\ttrain-rmse:2.22324e+06\n",
      "[93]\ttrain-rmse:2.22099e+06\n",
      "[94]\ttrain-rmse:2.21929e+06\n",
      "[95]\ttrain-rmse:2.21664e+06\n",
      "[96]\ttrain-rmse:2.21449e+06\n",
      "[97]\ttrain-rmse:2.21092e+06\n",
      "[98]\ttrain-rmse:2.20892e+06\n",
      "[99]\ttrain-rmse:2.20769e+06\n",
      "[100]\ttrain-rmse:2.2062e+06\n",
      "[101]\ttrain-rmse:2.20498e+06\n",
      "[102]\ttrain-rmse:2.20315e+06\n",
      "[103]\ttrain-rmse:2.20176e+06\n",
      "[104]\ttrain-rmse:2.20077e+06\n",
      "[105]\ttrain-rmse:2.19975e+06\n",
      "[106]\ttrain-rmse:2.19737e+06\n",
      "[107]\ttrain-rmse:2.19536e+06\n",
      "[108]\ttrain-rmse:2.19449e+06\n",
      "[109]\ttrain-rmse:2.1933e+06\n",
      "[110]\ttrain-rmse:2.19134e+06\n",
      "[111]\ttrain-rmse:2.18877e+06\n",
      "[112]\ttrain-rmse:2.18763e+06\n",
      "[113]\ttrain-rmse:2.18584e+06\n",
      "[114]\ttrain-rmse:2.18406e+06\n",
      "[115]\ttrain-rmse:2.18363e+06\n",
      "[116]\ttrain-rmse:2.18253e+06\n",
      "[117]\ttrain-rmse:2.18039e+06\n",
      "[118]\ttrain-rmse:2.17968e+06\n",
      "[119]\ttrain-rmse:2.17878e+06\n",
      "[120]\ttrain-rmse:2.17755e+06\n",
      "[121]\ttrain-rmse:2.17516e+06\n",
      "[122]\ttrain-rmse:2.17369e+06\n",
      "[123]\ttrain-rmse:2.17227e+06\n",
      "[124]\ttrain-rmse:2.17165e+06\n",
      "[125]\ttrain-rmse:2.17069e+06\n",
      "[126]\ttrain-rmse:2.16965e+06\n",
      "[127]\ttrain-rmse:2.16754e+06\n",
      "[128]\ttrain-rmse:2.16613e+06\n",
      "[129]\ttrain-rmse:2.16483e+06\n",
      "[130]\ttrain-rmse:2.16449e+06\n",
      "[131]\ttrain-rmse:2.16332e+06\n",
      "[132]\ttrain-rmse:2.16178e+06\n",
      "[133]\ttrain-rmse:2.16013e+06\n",
      "[134]\ttrain-rmse:2.15822e+06\n",
      "[135]\ttrain-rmse:2.15676e+06\n",
      "[136]\ttrain-rmse:2.15545e+06\n",
      "[137]\ttrain-rmse:2.15469e+06\n",
      "[138]\ttrain-rmse:2.15352e+06\n",
      "[139]\ttrain-rmse:2.15223e+06\n",
      "[140]\ttrain-rmse:2.15077e+06\n",
      "[141]\ttrain-rmse:2.14972e+06\n",
      "[142]\ttrain-rmse:2.14833e+06\n",
      "[143]\ttrain-rmse:2.14733e+06\n",
      "[144]\ttrain-rmse:2.14602e+06\n",
      "[145]\ttrain-rmse:2.14523e+06\n",
      "[146]\ttrain-rmse:2.14469e+06\n",
      "[147]\ttrain-rmse:2.14365e+06\n",
      "[148]\ttrain-rmse:2.14161e+06\n",
      "[149]\ttrain-rmse:2.14089e+06\n",
      "[150]\ttrain-rmse:2.13995e+06\n",
      "[151]\ttrain-rmse:2.13944e+06\n",
      "[152]\ttrain-rmse:2.13866e+06\n",
      "[153]\ttrain-rmse:2.13809e+06\n",
      "[154]\ttrain-rmse:2.13662e+06\n",
      "[155]\ttrain-rmse:2.13562e+06\n",
      "[156]\ttrain-rmse:2.13432e+06\n",
      "[157]\ttrain-rmse:2.13265e+06\n",
      "[158]\ttrain-rmse:2.13163e+06\n",
      "[159]\ttrain-rmse:2.1301e+06\n",
      "[160]\ttrain-rmse:2.12868e+06\n",
      "[161]\ttrain-rmse:2.12743e+06\n",
      "[162]\ttrain-rmse:2.12607e+06\n",
      "[163]\ttrain-rmse:2.12398e+06\n",
      "[164]\ttrain-rmse:2.12303e+06\n",
      "[165]\ttrain-rmse:2.12182e+06\n",
      "[166]\ttrain-rmse:2.12115e+06\n",
      "[167]\ttrain-rmse:2.12003e+06\n",
      "[168]\ttrain-rmse:2.11838e+06\n",
      "[169]\ttrain-rmse:2.1168e+06\n",
      "[170]\ttrain-rmse:2.11556e+06\n",
      "[171]\ttrain-rmse:2.11393e+06\n",
      "[172]\ttrain-rmse:2.11329e+06\n",
      "[173]\ttrain-rmse:2.11203e+06\n",
      "[174]\ttrain-rmse:2.11093e+06\n",
      "[175]\ttrain-rmse:2.10973e+06\n",
      "[176]\ttrain-rmse:2.10845e+06\n",
      "[177]\ttrain-rmse:2.10751e+06\n",
      "[178]\ttrain-rmse:2.10623e+06\n",
      "[179]\ttrain-rmse:2.10548e+06\n",
      "[180]\ttrain-rmse:2.10507e+06\n",
      "[181]\ttrain-rmse:2.10439e+06\n",
      "[182]\ttrain-rmse:2.10341e+06\n",
      "[183]\ttrain-rmse:2.10261e+06\n",
      "[184]\ttrain-rmse:2.10164e+06\n",
      "[185]\ttrain-rmse:2.10105e+06\n",
      "[186]\ttrain-rmse:2.1e+06\n",
      "[187]\ttrain-rmse:2.09933e+06\n",
      "[188]\ttrain-rmse:2.09896e+06\n",
      "[189]\ttrain-rmse:2.09801e+06\n",
      "[190]\ttrain-rmse:2.09634e+06\n",
      "[191]\ttrain-rmse:2.09580e+06\n",
      "[192]\ttrain-rmse:2.09506e+06\n",
      "[193]\ttrain-rmse:2.09448e+06\n",
      "[194]\ttrain-rmse:2.09422e+06\n",
      "[195]\ttrain-rmse:2.09263e+06\n",
      "[196]\ttrain-rmse:2.09152e+06\n",
      "[197]\ttrain-rmse:2.09051e+06\n",
      "[198]\ttrain-rmse:2.08967e+06\n",
      "[199]\ttrain-rmse:2.08811e+06\n"
     ]
    }
   ],
   "source": [
    "xgb_params = {\n",
    "    'eta': 0.05,\n",
    "    'max_depth': 6,\n",
    "    'subsample': 0.6,\n",
    "    'colsample_bytree': 1,\n",
    "    'objective': 'reg:linear',\n",
    "    'eval_metric': 'rmse',\n",
    "    'silent': 1\n",
    "}\n",
    "\n",
    "dtrain = xgb.DMatrix(s_train, y)\n",
    "#dtrain = xgb.DMatrix(s_train[:25000], y[:25000])\n",
    "dval = xgb.DMatrix(s_train[25000:], y[25000:])\n",
    "dtest = xgb.DMatrix(s_test)\n",
    "\n",
    "\n",
    "num_boost_rounds = 1000\n",
    "model = xgb.train(dict(xgb_params, silent=0), dtrain, num_boost_round=200, evals={(dtrain,'train')})\n",
    "#model = xgb.train(dict(xgb_params, silent=0), dtrain, num_boost_round=num_boost_rounds, evals=[(dtrain,'train'), (dval,'val')], early_stopping_rounds=20, verbose_eval=20)\n",
    "\n",
    "y_predict = model.predict(dtest)"
   ]
  },
  {
   "cell_type": "code",
   "execution_count": 61,
   "metadata": {
    "collapsed": true
   },
   "outputs": [],
   "source": [
    "df_test = pd.read_csv('../input/test.csv')\n",
    "id_test = df_test.id"
   ]
  },
  {
   "cell_type": "code",
   "execution_count": 105,
   "metadata": {
    "collapsed": false
   },
   "outputs": [],
   "source": [
    "stacking_output = pd.DataFrame({'id': id_test, 'price_doc': y_predict })"
   ]
  },
  {
   "cell_type": "code",
   "execution_count": 106,
   "metadata": {
    "collapsed": true
   },
   "outputs": [],
   "source": [
    "stacking_output.to_csv('../stacking.csv', index=False)"
   ]
  },
  {
   "cell_type": "code",
   "execution_count": null,
   "metadata": {
    "collapsed": true
   },
   "outputs": [],
   "source": []
  }
 ],
 "metadata": {
  "kernelspec": {
   "display_name": "Python 2",
   "language": "python",
   "name": "python2"
  },
  "language_info": {
   "codemirror_mode": {
    "name": "ipython",
    "version": 2
   },
   "file_extension": ".py",
   "mimetype": "text/x-python",
   "name": "python",
   "nbconvert_exporter": "python",
   "pygments_lexer": "ipython2",
   "version": "2.7.13"
  }
 },
 "nbformat": 4,
 "nbformat_minor": 2
}
