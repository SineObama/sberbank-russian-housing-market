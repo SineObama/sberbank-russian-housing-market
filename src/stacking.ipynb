{
 "cells": [
  {
   "cell_type": "code",
   "execution_count": 180,
   "metadata": {
    "collapsed": false
   },
   "outputs": [
    {
     "name": "stdout",
     "output_type": "stream",
     "text": [
      "30396\n",
      "(array([    1,     2,     3, ..., 30393, 30394, 30395]), array([    0,     5,    10, ..., 30385, 30388, 30392]))\n",
      "(array([    0,     1,     2, ..., 30391, 30392, 30395]), array([    9,    16,    18, ..., 30382, 30393, 30394]))\n",
      "(array([    0,     1,     2, ..., 30393, 30394, 30395]), array([    4,     6,     7, ..., 30377, 30384, 30389]))\n",
      "(array([    0,     4,     5, ..., 30393, 30394, 30395]), array([    1,     2,     3, ..., 30378, 30390, 30391]))\n",
      "(array([    0,     1,     2, ..., 30392, 30393, 30394]), array([   15,    20,    26, ..., 30386, 30387, 30395]))\n"
     ]
    }
   ],
   "source": [
    "kf = model_selection.KFold(n_splits=5, shuffle=True, random_state=2016)\n",
    "folds = kf.split(range(len(y)))\n",
    "S_train_i = np.zeros(len(y))\n",
    "print len(y)\n",
    "for j, (train_idx, test_idx) in enumerate(folds):\n",
    "    print (train_idx, test_idx)"
   ]
  },
  {
   "cell_type": "code",
   "execution_count": 155,
   "metadata": {
    "collapsed": true
   },
   "outputs": [],
   "source": [
    "ID = np.array([1,2,3])"
   ]
  },
  {
   "cell_type": "code",
   "execution_count": 154,
   "metadata": {
    "collapsed": true
   },
   "outputs": [],
   "source": [
    "df = pd.DataFrame({'id':[1,2], 'y':[4,5]})"
   ]
  },
  {
   "cell_type": "code",
   "execution_count": 157,
   "metadata": {
    "collapsed": false
   },
   "outputs": [],
   "source": [
    "df2 = pd.DataFrame(ID, columns=['id'])"
   ]
  },
  {
   "cell_type": "code",
   "execution_count": 158,
   "metadata": {
    "collapsed": false
   },
   "outputs": [
    {
     "data": {
      "text/html": [
       "<div>\n",
       "<table border=\"1\" class=\"dataframe\">\n",
       "  <thead>\n",
       "    <tr style=\"text-align: right;\">\n",
       "      <th></th>\n",
       "      <th>id</th>\n",
       "      <th>y</th>\n",
       "    </tr>\n",
       "  </thead>\n",
       "  <tbody>\n",
       "    <tr>\n",
       "      <th>0</th>\n",
       "      <td>1</td>\n",
       "      <td>4.0</td>\n",
       "    </tr>\n",
       "    <tr>\n",
       "      <th>1</th>\n",
       "      <td>2</td>\n",
       "      <td>5.0</td>\n",
       "    </tr>\n",
       "    <tr>\n",
       "      <th>2</th>\n",
       "      <td>3</td>\n",
       "      <td>NaN</td>\n",
       "    </tr>\n",
       "  </tbody>\n",
       "</table>\n",
       "</div>"
      ],
      "text/plain": [
       "   id    y\n",
       "0   1  4.0\n",
       "1   2  5.0\n",
       "2   3  NaN"
      ]
     },
     "execution_count": 158,
     "metadata": {},
     "output_type": "execute_result"
    }
   ],
   "source": [
    "df2.merge(df, on='id', how='left')"
   ]
  },
  {
   "cell_type": "code",
   "execution_count": 1,
   "metadata": {
    "collapsed": true
   },
   "outputs": [],
   "source": [
    "import numpy as np # linear algebra\n",
    "import pandas as pd # data processing, CSV file I/O (e.g. pd.read_csv)\n",
    "import matplotlib.pyplot as plt\n",
    "import seaborn as sns\n",
    "from sklearn import model_selection, preprocessing\n",
    "from sklearn import ensemble   \n",
    "from sklearn import datasets   \n",
    "from sklearn.utils import shuffle   \n",
    "import xgboost as xgb\n",
    "color = sns.color_palette()\n",
    "\n",
    "%matplotlib inline\n",
    "\n",
    "pd.options.mode.chained_assignment = None  # default='warn'\n",
    "pd.set_option('display.max_columns', 500)"
   ]
  },
  {
   "cell_type": "code",
   "execution_count": 2,
   "metadata": {
    "collapsed": true
   },
   "outputs": [],
   "source": [
    "class XgbModel(object):\n",
    "    def __init__(self, params, num_boost_rounds):\n",
    "        self.params = params\n",
    "        self.num_boost_rounds = num_boost_rounds\n",
    "        \n",
    "    def copy(self):\n",
    "        return XgbModel(self.params, self.num_boost_rounds)\n",
    "    \n",
    "    def fit(self, X, y):\n",
    "        xgtrain = xgb.DMatrix(X, y)\n",
    "        self.model = xgb.train(self.params, xgtrain, self.num_boost_rounds)\n",
    "        \n",
    "    def predict(self, X):\n",
    "        xgtest = xgb.DMatrix(X)\n",
    "        return self.model.predict(xgtest)"
   ]
  },
  {
   "cell_type": "code",
   "execution_count": 3,
   "metadata": {
    "collapsed": false
   },
   "outputs": [],
   "source": [
    "from stacking import Stacking"
   ]
  },
  {
   "cell_type": "code",
   "execution_count": 275,
   "metadata": {
    "collapsed": true
   },
   "outputs": [],
   "source": [
    "import stacking"
   ]
  },
  {
   "cell_type": "code",
   "execution_count": 276,
   "metadata": {
    "collapsed": false
   },
   "outputs": [
    {
     "data": {
      "text/plain": [
       "<module 'stacking' from 'stacking.py'>"
      ]
     },
     "execution_count": 276,
     "metadata": {},
     "output_type": "execute_result"
    }
   ],
   "source": [
    "reload(stacking)"
   ]
  },
  {
   "cell_type": "code",
   "execution_count": 4,
   "metadata": {
    "collapsed": true
   },
   "outputs": [],
   "source": [
    "def rmse(predictions, targets):\n",
    "    return np.sqrt(((predictions - targets) ** 2).mean())"
   ]
  },
  {
   "cell_type": "code",
   "execution_count": 5,
   "metadata": {
    "collapsed": true
   },
   "outputs": [],
   "source": [
    "def logrmse(predictions, targets):\n",
    "    return rmse(np.log(predictions), np.log(targets))"
   ]
  },
  {
   "cell_type": "markdown",
   "metadata": {},
   "source": [
    "# bruno"
   ]
  },
  {
   "cell_type": "code",
   "execution_count": 6,
   "metadata": {
    "collapsed": false
   },
   "outputs": [],
   "source": [
    "import bruno"
   ]
  },
  {
   "cell_type": "code",
   "execution_count": 34,
   "metadata": {
    "collapsed": false
   },
   "outputs": [
    {
     "data": {
      "text/plain": [
       "<module 'bruno' from 'bruno.py'>"
      ]
     },
     "execution_count": 34,
     "metadata": {},
     "output_type": "execute_result"
    }
   ],
   "source": [
    "reload(bruno)"
   ]
  },
  {
   "cell_type": "code",
   "execution_count": 45,
   "metadata": {
    "collapsed": true
   },
   "outputs": [],
   "source": [
    "xgb_params = {\n",
    "    'eta': 0.05,\n",
    "    'max_depth': 5,\n",
    "    'subsample': 0.7,\n",
    "    'colsample_bytree': 0.7,\n",
    "    'objective': 'reg:linear',\n",
    "    'eval_metric': 'rmse',\n",
    "    'silent': 0\n",
    "}\n",
    "num_boost_rounds = 420  # From Bruno's original CV, I think\n",
    "bruno_xgb = XgbModel(xgb_params, num_boost_rounds)"
   ]
  },
  {
   "cell_type": "markdown",
   "metadata": {},
   "source": [
    "# gunja"
   ]
  },
  {
   "cell_type": "code",
   "execution_count": 9,
   "metadata": {
    "collapsed": false
   },
   "outputs": [],
   "source": [
    "import gunja"
   ]
  },
  {
   "cell_type": "code",
   "execution_count": 10,
   "metadata": {
    "collapsed": false
   },
   "outputs": [
    {
     "data": {
      "text/plain": [
       "<module 'gunja' from 'gunja.pyc'>"
      ]
     },
     "execution_count": 10,
     "metadata": {},
     "output_type": "execute_result"
    }
   ],
   "source": [
    "reload(gunja)"
   ]
  },
  {
   "cell_type": "code",
   "execution_count": 44,
   "metadata": {
    "collapsed": true
   },
   "outputs": [],
   "source": [
    "xgb_params = {\n",
    "    'eta': 0.05,\n",
    "    'max_depth': 6,\n",
    "    'subsample': 0.6,\n",
    "    'colsample_bytree': 1,\n",
    "    'objective': 'reg:linear',\n",
    "    'eval_metric': 'rmse',\n",
    "    'silent': 0\n",
    "}\n",
    "num_boost_rounds = 422\n",
    "gunja_xgb = XgbModel(xgb_params, num_boost_rounds)"
   ]
  },
  {
   "cell_type": "markdown",
   "metadata": {},
   "source": [
    "# louis"
   ]
  },
  {
   "cell_type": "code",
   "execution_count": 12,
   "metadata": {
    "collapsed": true
   },
   "outputs": [],
   "source": [
    "import louis"
   ]
  },
  {
   "cell_type": "code",
   "execution_count": 13,
   "metadata": {
    "collapsed": false
   },
   "outputs": [
    {
     "data": {
      "text/plain": [
       "<module 'louis' from 'louis.pyc'>"
      ]
     },
     "execution_count": 13,
     "metadata": {},
     "output_type": "execute_result"
    }
   ],
   "source": [
    "reload(louis)"
   ]
  },
  {
   "cell_type": "code",
   "execution_count": 43,
   "metadata": {
    "collapsed": true
   },
   "outputs": [],
   "source": [
    "xgb_params = {\n",
    "    'eta': 0.05,\n",
    "    'max_depth': 5,\n",
    "    'subsample': 0.7,\n",
    "    'colsample_bytree': 0.7,\n",
    "    'objective': 'reg:linear',\n",
    "    'eval_metric': 'rmse',\n",
    "    'silent': 0\n",
    "}\n",
    "num_boost_rounds = 385  # This was the CV output, as earlier version shows\n",
    "louis_xgb = XgbModel(xgb_params, num_boost_rounds)"
   ]
  },
  {
   "cell_type": "markdown",
   "metadata": {},
   "source": [
    "# stacking"
   ]
  },
  {
   "cell_type": "code",
   "execution_count": 57,
   "metadata": {
    "collapsed": true
   },
   "outputs": [],
   "source": [
    "df_train = pd.read_csv('../input/train.csv')\n",
    "id_train = df_train['id'].values\n",
    "y = df_train['price_doc'].values"
   ]
  },
  {
   "cell_type": "code",
   "execution_count": 23,
   "metadata": {
    "collapsed": true
   },
   "outputs": [],
   "source": [
    "class DataResolver(object):\n",
    "    def __init__(self):\n",
    "        self.__time = -1\n",
    "    \n",
    "    def next(self):\n",
    "        self.__time = self.__time + 1\n",
    "        if (self.__time >= 2):\n",
    "            return louis.resolver()\n",
    "        if (self.__time >= 1):\n",
    "            return gunja.resolver()\n",
    "        return bruno.resolver()"
   ]
  },
  {
   "cell_type": "code",
   "execution_count": 47,
   "metadata": {
    "collapsed": false
   },
   "outputs": [],
   "source": [
    "base_models = []\n",
    "base_models.append(bruno_xgb)\n",
    "base_models.append(gunja_xgb)\n",
    "base_models.append(louis_xgb)\n",
    "stacking = Stacking(5, base_models, DataResolver(), logrmse)"
   ]
  },
  {
   "cell_type": "code",
   "execution_count": 48,
   "metadata": {
    "collapsed": false
   },
   "outputs": [
    {
     "name": "stdout",
     "output_type": "stream",
     "text": [
      "(38132, 390)\n",
      "(38132L, 394L)\n",
      "(38132L, 394L)\n",
      "model 0\n",
      "train: 0.420613501748 val: 0.477737831655\n",
      "train: 0.425007006396 val: 0.459305298253\n",
      "train: 0.42039672604 val: 0.480549373028\n",
      "train: 0.42860796861 val: 0.450614562747\n",
      "train: 0.423228378048 val: 0.471364509042\n",
      "model 1\n",
      "train: 0.383467659704 val: 0.452678448878\n",
      "train: 0.384376725088 val: 0.45505127241\n",
      "train: 0.376932483776 val: 0.468695006951\n",
      "train: 0.386184074091 val: 0.45296886144\n",
      "train: 0.381288729246 val: 0.453990547096\n",
      "model 2\n",
      "train: 0.431167836295 val: 0.472524714846\n",
      "train:"
     ]
    },
    {
     "name": "stderr",
     "output_type": "stream",
     "text": [
      "d:\\Anaconda2\\lib\\site-packages\\ipykernel\\__main__.py:2: RuntimeWarning: invalid value encountered in log\n",
      "  from ipykernel import kernelapp as app\n"
     ]
    },
    {
     "name": "stdout",
     "output_type": "stream",
     "text": [
      " nan val: 0.453097897971\n",
      "train: 0.427901431139 val: 0.483505017565\n",
      "train: 0.435069040544 val: 0.458759965108\n",
      "train: nan val: 0.476115483132\n"
     ]
    }
   ],
   "source": [
    "s_train, s_test = stacking.fit(id_train, 7662)#38132 30471"
   ]
  },
  {
   "cell_type": "code",
   "execution_count": 53,
   "metadata": {
    "collapsed": false
   },
   "outputs": [],
   "source": [
    "pd.DataFrame(s_train).to_csv('../stacking/5_3_train.csv', index=False)"
   ]
  },
  {
   "cell_type": "code",
   "execution_count": 54,
   "metadata": {
    "collapsed": true
   },
   "outputs": [],
   "source": [
    "pd.DataFrame(s_test).to_csv('../stacking/5_3_test.csv', index=False)"
   ]
  },
  {
   "cell_type": "code",
   "execution_count": 49,
   "metadata": {
    "collapsed": false
   },
   "outputs": [
    {
     "data": {
      "text/plain": [
       "array([[  3804734.  ,   3631560.25,   5081369.  ],\n",
       "       [  5614989.5 ,   4439626.5 ,   5466862.  ],\n",
       "       [  4921093.  ,   4305226.5 ,   4645399.5 ],\n",
       "       ..., \n",
       "       [  5405239.  ,   6122101.  ,   5312807.  ],\n",
       "       [ 11368580.  ,  12399014.  ,  10650168.  ],\n",
       "       [  6148419.  ,   6521823.5 ,   6236720.5 ]])"
      ]
     },
     "execution_count": 49,
     "metadata": {},
     "output_type": "execute_result"
    }
   ],
   "source": [
    "s_train"
   ]
  },
  {
   "cell_type": "code",
   "execution_count": 288,
   "metadata": {
    "collapsed": false
   },
   "outputs": [
    {
     "data": {
      "text/plain": [
       "array([[  4285453.5 ,   4452850.  ,   4986183.5 ],\n",
       "       [  4463656.5 ,   3639487.  ,   5244543.5 ],\n",
       "       [  4424056.5 ,   4173486.25,   4886411.  ],\n",
       "       ..., \n",
       "       [  5769501.  ,   5717440.  ,   5201236.5 ],\n",
       "       [ 10980000.  ,  10370804.  ,  10273804.  ],\n",
       "       [  6817400.  ,   7259843.5 ,   6272357.  ]])"
      ]
     },
     "execution_count": 288,
     "metadata": {},
     "output_type": "execute_result"
    }
   ],
   "source": [
    "s_train"
   ]
  },
  {
   "cell_type": "code",
   "execution_count": 50,
   "metadata": {
    "collapsed": false
   },
   "outputs": [
    {
     "ename": "NameError",
     "evalue": "name 'y' is not defined",
     "output_type": "error",
     "traceback": [
      "\u001b[0;31m---------------------------------------------------------------------------\u001b[0m",
      "\u001b[0;31mNameError\u001b[0m                                 Traceback (most recent call last)",
      "\u001b[0;32m<ipython-input-50-009520053b00>\u001b[0m in \u001b[0;36m<module>\u001b[0;34m()\u001b[0m\n\u001b[0;32m----> 1\u001b[0;31m \u001b[0my\u001b[0m\u001b[1;33m\u001b[0m\u001b[0m\n\u001b[0m",
      "\u001b[0;31mNameError\u001b[0m: name 'y' is not defined"
     ]
    }
   ],
   "source": [
    "y"
   ]
  },
  {
   "cell_type": "code",
   "execution_count": 51,
   "metadata": {
    "collapsed": false
   },
   "outputs": [
    {
     "data": {
      "text/plain": [
       "array([[ 5409973.4 ,  5637508.3 ,  5347157.5 ],\n",
       "       [ 8196299.7 ,  8380193.2 ,  8043320.5 ],\n",
       "       [ 5342534.7 ,  5518024.  ,  5332160.5 ],\n",
       "       ..., \n",
       "       [ 5580179.9 ,  4020587.4 ,  4784553.3 ],\n",
       "       [ 5122271.1 ,  4301102.45,  5265858.6 ],\n",
       "       [ 9594133.2 ,  8151672.7 ,  8513476.5 ]])"
      ]
     },
     "execution_count": 51,
     "metadata": {},
     "output_type": "execute_result"
    }
   ],
   "source": [
    "s_test"
   ]
  },
  {
   "cell_type": "code",
   "execution_count": null,
   "metadata": {
    "collapsed": true
   },
   "outputs": [],
   "source": []
  },
  {
   "cell_type": "code",
   "execution_count": 60,
   "metadata": {
    "collapsed": false
   },
   "outputs": [
    {
     "name": "stdout",
     "output_type": "stream",
     "text": [
      "[0]\ttrain-rmse:8.19075e+06\n",
      "[1]\ttrain-rmse:7.82501e+06\n",
      "[2]\ttrain-rmse:7.47812e+06\n",
      "[3]\ttrain-rmse:7.14982e+06\n",
      "[4]\ttrain-rmse:6.84017e+06\n",
      "[5]\ttrain-rmse:6.54405e+06\n",
      "[6]\ttrain-rmse:6.26787e+06\n",
      "[7]\ttrain-rmse:6.00661e+06\n",
      "[8]\ttrain-rmse:5.76052e+06\n",
      "[9]\ttrain-rmse:5.52528e+06\n",
      "[10]\ttrain-rmse:5.30721e+06\n",
      "[11]\ttrain-rmse:5.10404e+06\n",
      "[12]\ttrain-rmse:4.90834e+06\n",
      "[13]\ttrain-rmse:4.7232e+06\n",
      "[14]\ttrain-rmse:4.55258e+06\n",
      "[15]\ttrain-rmse:4.39164e+06\n",
      "[16]\ttrain-rmse:4.24178e+06\n",
      "[17]\ttrain-rmse:4.10192e+06\n",
      "[18]\ttrain-rmse:3.97146e+06\n",
      "[19]\ttrain-rmse:3.8475e+06\n",
      "[20]\ttrain-rmse:3.73522e+06\n",
      "[21]\ttrain-rmse:3.6265e+06\n",
      "[22]\ttrain-rmse:3.526e+06\n",
      "[23]\ttrain-rmse:3.43116e+06\n",
      "[24]\ttrain-rmse:3.34406e+06\n",
      "[25]\ttrain-rmse:3.26159e+06\n",
      "[26]\ttrain-rmse:3.1865e+06\n",
      "[27]\ttrain-rmse:3.1141e+06\n",
      "[28]\ttrain-rmse:3.04911e+06\n",
      "[29]\ttrain-rmse:2.98859e+06\n",
      "[30]\ttrain-rmse:2.93423e+06\n",
      "[31]\ttrain-rmse:2.88385e+06\n",
      "[32]\ttrain-rmse:2.83701e+06\n",
      "[33]\ttrain-rmse:2.79412e+06\n",
      "[34]\ttrain-rmse:2.75239e+06\n",
      "[35]\ttrain-rmse:2.7122e+06\n",
      "[36]\ttrain-rmse:2.67839e+06\n",
      "[37]\ttrain-rmse:2.64596e+06\n",
      "[38]\ttrain-rmse:2.6194e+06\n",
      "[39]\ttrain-rmse:2.5936e+06\n",
      "[40]\ttrain-rmse:2.56945e+06\n",
      "[41]\ttrain-rmse:2.5466e+06\n",
      "[42]\ttrain-rmse:2.52458e+06\n",
      "[43]\ttrain-rmse:2.50505e+06\n",
      "[44]\ttrain-rmse:2.48743e+06\n",
      "[45]\ttrain-rmse:2.46889e+06\n",
      "[46]\ttrain-rmse:2.45058e+06\n",
      "[47]\ttrain-rmse:2.43716e+06\n",
      "[48]\ttrain-rmse:2.42334e+06\n",
      "[49]\ttrain-rmse:2.4116e+06\n",
      "[50]\ttrain-rmse:2.40205e+06\n",
      "[51]\ttrain-rmse:2.39213e+06\n",
      "[52]\ttrain-rmse:2.38173e+06\n",
      "[53]\ttrain-rmse:2.37173e+06\n",
      "[54]\ttrain-rmse:2.36232e+06\n",
      "[55]\ttrain-rmse:2.35267e+06\n",
      "[56]\ttrain-rmse:2.3453e+06\n",
      "[57]\ttrain-rmse:2.33666e+06\n",
      "[58]\ttrain-rmse:2.32958e+06\n",
      "[59]\ttrain-rmse:2.32216e+06\n",
      "[60]\ttrain-rmse:2.31577e+06\n",
      "[61]\ttrain-rmse:2.30998e+06\n",
      "[62]\ttrain-rmse:2.30459e+06\n",
      "[63]\ttrain-rmse:2.30045e+06\n",
      "[64]\ttrain-rmse:2.29404e+06\n",
      "[65]\ttrain-rmse:2.29031e+06\n",
      "[66]\ttrain-rmse:2.28394e+06\n",
      "[67]\ttrain-rmse:2.28107e+06\n",
      "[68]\ttrain-rmse:2.2781e+06\n",
      "[69]\ttrain-rmse:2.2753e+06\n",
      "[70]\ttrain-rmse:2.27049e+06\n",
      "[71]\ttrain-rmse:2.26598e+06\n",
      "[72]\ttrain-rmse:2.26074e+06\n",
      "[73]\ttrain-rmse:2.25751e+06\n",
      "[74]\ttrain-rmse:2.25604e+06\n",
      "[75]\ttrain-rmse:2.25343e+06\n",
      "[76]\ttrain-rmse:2.25024e+06\n",
      "[77]\ttrain-rmse:2.24758e+06\n",
      "[78]\ttrain-rmse:2.24417e+06\n",
      "[79]\ttrain-rmse:2.24134e+06\n",
      "[80]\ttrain-rmse:2.23935e+06\n",
      "[81]\ttrain-rmse:2.2361e+06\n",
      "[82]\ttrain-rmse:2.23486e+06\n",
      "[83]\ttrain-rmse:2.23222e+06\n",
      "[84]\ttrain-rmse:2.23083e+06\n",
      "[85]\ttrain-rmse:2.22912e+06\n",
      "[86]\ttrain-rmse:2.22688e+06\n",
      "[87]\ttrain-rmse:2.22388e+06\n",
      "[88]\ttrain-rmse:2.2221e+06\n",
      "[89]\ttrain-rmse:2.22109e+06\n",
      "[90]\ttrain-rmse:2.21992e+06\n",
      "[91]\ttrain-rmse:2.21806e+06\n",
      "[92]\ttrain-rmse:2.21643e+06\n",
      "[93]\ttrain-rmse:2.21451e+06\n",
      "[94]\ttrain-rmse:2.21273e+06\n",
      "[95]\ttrain-rmse:2.211e+06\n",
      "[96]\ttrain-rmse:2.20855e+06\n",
      "[97]\ttrain-rmse:2.20598e+06\n",
      "[98]\ttrain-rmse:2.20374e+06\n",
      "[99]\ttrain-rmse:2.20265e+06\n",
      "[100]\ttrain-rmse:2.20135e+06\n",
      "[101]\ttrain-rmse:2.19994e+06\n",
      "[102]\ttrain-rmse:2.1986e+06\n",
      "[103]\ttrain-rmse:2.197e+06\n",
      "[104]\ttrain-rmse:2.19574e+06\n",
      "[105]\ttrain-rmse:2.19447e+06\n",
      "[106]\ttrain-rmse:2.1926e+06\n",
      "[107]\ttrain-rmse:2.19061e+06\n",
      "[108]\ttrain-rmse:2.18955e+06\n",
      "[109]\ttrain-rmse:2.18827e+06\n",
      "[110]\ttrain-rmse:2.18669e+06\n",
      "[111]\ttrain-rmse:2.18446e+06\n",
      "[112]\ttrain-rmse:2.18335e+06\n",
      "[113]\ttrain-rmse:2.18152e+06\n",
      "[114]\ttrain-rmse:2.1795e+06\n",
      "[115]\ttrain-rmse:2.17898e+06\n",
      "[116]\ttrain-rmse:2.17785e+06\n",
      "[117]\ttrain-rmse:2.17565e+06\n",
      "[118]\ttrain-rmse:2.17463e+06\n",
      "[119]\ttrain-rmse:2.17402e+06\n",
      "[120]\ttrain-rmse:2.17144e+06\n",
      "[121]\ttrain-rmse:2.17063e+06\n",
      "[122]\ttrain-rmse:2.17016e+06\n",
      "[123]\ttrain-rmse:2.16805e+06\n",
      "[124]\ttrain-rmse:2.16737e+06\n",
      "[125]\ttrain-rmse:2.16628e+06\n",
      "[126]\ttrain-rmse:2.16487e+06\n",
      "[127]\ttrain-rmse:2.16349e+06\n",
      "[128]\ttrain-rmse:2.16161e+06\n",
      "[129]\ttrain-rmse:2.16062e+06\n",
      "[130]\ttrain-rmse:2.16006e+06\n",
      "[131]\ttrain-rmse:2.15894e+06\n",
      "[132]\ttrain-rmse:2.15785e+06\n",
      "[133]\ttrain-rmse:2.15688e+06\n",
      "[134]\ttrain-rmse:2.15463e+06\n",
      "[135]\ttrain-rmse:2.15243e+06\n",
      "[136]\ttrain-rmse:2.15092e+06\n",
      "[137]\ttrain-rmse:2.14975e+06\n",
      "[138]\ttrain-rmse:2.1488e+06\n",
      "[139]\ttrain-rmse:2.14751e+06\n",
      "[140]\ttrain-rmse:2.14631e+06\n",
      "[141]\ttrain-rmse:2.14563e+06\n",
      "[142]\ttrain-rmse:2.1446e+06\n",
      "[143]\ttrain-rmse:2.14414e+06\n",
      "[144]\ttrain-rmse:2.14351e+06\n",
      "[145]\ttrain-rmse:2.14226e+06\n",
      "[146]\ttrain-rmse:2.1409e+06\n",
      "[147]\ttrain-rmse:2.13928e+06\n",
      "[148]\ttrain-rmse:2.138e+06\n",
      "[149]\ttrain-rmse:2.13688e+06\n",
      "[150]\ttrain-rmse:2.13526e+06\n",
      "[151]\ttrain-rmse:2.13374e+06\n",
      "[152]\ttrain-rmse:2.13136e+06\n",
      "[153]\ttrain-rmse:2.13089e+06\n",
      "[154]\ttrain-rmse:2.13012e+06\n",
      "[155]\ttrain-rmse:2.12908e+06\n",
      "[156]\ttrain-rmse:2.12731e+06\n",
      "[157]\ttrain-rmse:2.12656e+06\n",
      "[158]\ttrain-rmse:2.12554e+06\n",
      "[159]\ttrain-rmse:2.12454e+06\n",
      "[160]\ttrain-rmse:2.12362e+06\n",
      "[161]\ttrain-rmse:2.12339e+06\n",
      "[162]\ttrain-rmse:2.12165e+06\n",
      "[163]\ttrain-rmse:2.12e+06\n",
      "[164]\ttrain-rmse:2.119e+06\n",
      "[165]\ttrain-rmse:2.11806e+06\n",
      "[166]\ttrain-rmse:2.11728e+06\n",
      "[167]\ttrain-rmse:2.11693e+06\n",
      "[168]\ttrain-rmse:2.11639e+06\n",
      "[169]\ttrain-rmse:2.11516e+06\n",
      "[170]\ttrain-rmse:2.11415e+06\n",
      "[171]\ttrain-rmse:2.11295e+06\n",
      "[172]\ttrain-rmse:2.11255e+06\n",
      "[173]\ttrain-rmse:2.1102e+06\n",
      "[174]\ttrain-rmse:2.10936e+06\n",
      "[175]\ttrain-rmse:2.10848e+06\n",
      "[176]\ttrain-rmse:2.10747e+06\n",
      "[177]\ttrain-rmse:2.10638e+06\n",
      "[178]\ttrain-rmse:2.10531e+06\n",
      "[179]\ttrain-rmse:2.10419e+06\n",
      "[180]\ttrain-rmse:2.10319e+06\n",
      "[181]\ttrain-rmse:2.10231e+06\n",
      "[182]\ttrain-rmse:2.10131e+06\n",
      "[183]\ttrain-rmse:2.10056e+06\n",
      "[184]\ttrain-rmse:2.09948e+06\n",
      "[185]\ttrain-rmse:2.0988e+06\n",
      "[186]\ttrain-rmse:2.09828e+06\n",
      "[187]\ttrain-rmse:2.09696e+06\n",
      "[188]\ttrain-rmse:2.09578e+06\n",
      "[189]\ttrain-rmse:2.09449e+06\n",
      "[190]\ttrain-rmse:2.09253e+06\n",
      "[191]\ttrain-rmse:2.09196e+06\n",
      "[192]\ttrain-rmse:2.09093e+06\n",
      "[193]\ttrain-rmse:2.09011e+06\n",
      "[194]\ttrain-rmse:2.08965e+06\n",
      "[195]\ttrain-rmse:2.08873e+06\n",
      "[196]\ttrain-rmse:2.08801e+06\n",
      "[197]\ttrain-rmse:2.08719e+06\n",
      "[198]\ttrain-rmse:2.08678e+06\n",
      "[199]\ttrain-rmse:2.08547e+06\n"
     ]
    }
   ],
   "source": [
    "xgb_params = {\n",
    "    'eta': 0.05,\n",
    "    'max_depth': 6,\n",
    "    'subsample': 0.6,\n",
    "    'colsample_bytree': 1,\n",
    "    'objective': 'reg:linear',\n",
    "    'eval_metric': 'rmse',\n",
    "    'silent': 1\n",
    "}\n",
    "\n",
    "dtrain = xgb.DMatrix(s_train, y)\n",
    "dtest = xgb.DMatrix(s_test)\n",
    "\n",
    "\n",
    "num_boost_rounds = 200\n",
    "model = xgb.train(dict(xgb_params, silent=0), dtrain, num_boost_round=num_boost_rounds, evals={(dtrain,'train')})\n",
    "\n",
    "\n",
    "y_predict = model.predict(dtest)"
   ]
  },
  {
   "cell_type": "code",
   "execution_count": 61,
   "metadata": {
    "collapsed": true
   },
   "outputs": [],
   "source": [
    "df_test = pd.read_csv('../input/test.csv')\n",
    "id_test = df_test.id"
   ]
  },
  {
   "cell_type": "code",
   "execution_count": 65,
   "metadata": {
    "collapsed": false
   },
   "outputs": [],
   "source": [
    "stacking_output = pd.DataFrame({'id': id_test, 'price_doc': y_predict * 0.97})"
   ]
  },
  {
   "cell_type": "code",
   "execution_count": 66,
   "metadata": {
    "collapsed": true
   },
   "outputs": [],
   "source": [
    "stacking_output.to_csv('../stacking.csv', index=False)"
   ]
  },
  {
   "cell_type": "code",
   "execution_count": 292,
   "metadata": {
    "collapsed": true
   },
   "outputs": [],
   "source": [
    "\n",
    "gunja_output = pd.DataFrame({'id': pd.read_csv('../input/test.csv').id, 'price_doc': y_predict}) "
   ]
  },
  {
   "cell_type": "code",
   "execution_count": 293,
   "metadata": {
    "collapsed": true
   },
   "outputs": [],
   "source": [
    "gunja_output.to_csv('../stacking.csv', index=False)"
   ]
  },
  {
   "cell_type": "code",
   "execution_count": 286,
   "metadata": {
    "collapsed": false
   },
   "outputs": [],
   "source": [
    "id, X, y, T = gunja.resolver()"
   ]
  },
  {
   "cell_type": "code",
   "execution_count": 287,
   "metadata": {
    "collapsed": false
   },
   "outputs": [
    {
     "data": {
      "text/plain": [
       "(30396L,)"
      ]
     },
     "execution_count": 287,
     "metadata": {},
     "output_type": "execute_result"
    }
   ],
   "source": [
    "y.shape"
   ]
  },
  {
   "cell_type": "code",
   "execution_count": 187,
   "metadata": {
    "collapsed": true
   },
   "outputs": [],
   "source": [
    "id, X, y, T = louis.resolver()"
   ]
  },
  {
   "cell_type": "code",
   "execution_count": 134,
   "metadata": {
    "collapsed": true
   },
   "outputs": [
    {
     "name": "stdout",
     "output_type": "stream",
     "text": [
      "(38132, 391)\n",
      "(38132L, 395L)\n",
      "(38132L, 395L)\n"
     ]
    }
   ],
   "source": [
    "X, y, T = bruno.Resolver().get()"
   ]
  },
  {
   "cell_type": "code",
   "execution_count": 101,
   "metadata": {
    "collapsed": true
   },
   "outputs": [],
   "source": [
    "louis_xgb.fit(X, y)"
   ]
  },
  {
   "cell_type": "code",
   "execution_count": 102,
   "metadata": {
    "collapsed": false
   },
   "outputs": [],
   "source": [
    "y_pred = louis_xgb.predict(X)"
   ]
  },
  {
   "cell_type": "code",
   "execution_count": 103,
   "metadata": {
    "collapsed": false
   },
   "outputs": [
    {
     "data": {
      "text/plain": [
       "2.9603244826493116"
      ]
     },
     "execution_count": 103,
     "metadata": {},
     "output_type": "execute_result"
    }
   ],
   "source": [
    "logrmse(y, y_pred)"
   ]
  },
  {
   "cell_type": "code",
   "execution_count": null,
   "metadata": {
    "collapsed": true
   },
   "outputs": [],
   "source": []
  }
 ],
 "metadata": {
  "kernelspec": {
   "display_name": "Python 2",
   "language": "python",
   "name": "python2"
  },
  "language_info": {
   "codemirror_mode": {
    "name": "ipython",
    "version": 2
   },
   "file_extension": ".py",
   "mimetype": "text/x-python",
   "name": "python",
   "nbconvert_exporter": "python",
   "pygments_lexer": "ipython2",
   "version": "2.7.13"
  }
 },
 "nbformat": 4,
 "nbformat_minor": 2
}
